{
 "cells": [
  {
   "cell_type": "markdown",
   "id": "befdfa06",
   "metadata": {
    "id": "befdfa06"
   },
   "source": [
    "# AMAZON PRODUCT REVIEW ANALYSIS PROJECT"
   ]
  },
  {
   "cell_type": "code",
   "execution_count": 1,
   "id": "9ff5079c",
   "metadata": {
    "id": "9ff5079c"
   },
   "outputs": [],
   "source": [
    "import pandas as pd\n",
    "import numpy as np\n",
    "import warnings \n",
    "warnings.filterwarnings('ignore')"
   ]
  },
  {
   "cell_type": "markdown",
   "id": "7ec61122",
   "metadata": {
    "id": "7ec61122"
   },
   "source": [
    "## =================== PreProcessing on reviews data ==========================="
   ]
  },
  {
   "cell_type": "code",
   "execution_count": 2,
   "id": "6e01407d",
   "metadata": {
    "id": "6e01407d"
   },
   "outputs": [],
   "source": [
    "import gzip\n",
    "def parse(path):\n",
    "    g = gzip.open(path, 'rb')\n",
    "    for l in g:\n",
    "        yield eval(l)\n",
    "        \n",
    "def getdf(path):\n",
    "    i = 0\n",
    "    df1 = {}\n",
    "    for d in parse(path):\n",
    "        df1[i] = d\n",
    "        i = i+1\n",
    "    return pd.DataFrame.from_dict(df1, orient='index')\n",
    "\n",
    "  "
   ]
  },
  {
   "cell_type": "code",
   "execution_count": 3,
   "id": "e2cafe49",
   "metadata": {
    "id": "e2cafe49"
   },
   "outputs": [
    {
     "data": {
      "text/html": [
       "<div>\n",
       "<style scoped>\n",
       "    .dataframe tbody tr th:only-of-type {\n",
       "        vertical-align: middle;\n",
       "    }\n",
       "\n",
       "    .dataframe tbody tr th {\n",
       "        vertical-align: top;\n",
       "    }\n",
       "\n",
       "    .dataframe thead th {\n",
       "        text-align: right;\n",
       "    }\n",
       "</style>\n",
       "<table border=\"1\" class=\"dataframe\">\n",
       "  <thead>\n",
       "    <tr style=\"text-align: right;\">\n",
       "      <th></th>\n",
       "      <th>reviewerID</th>\n",
       "      <th>asin</th>\n",
       "      <th>reviewerName</th>\n",
       "      <th>helpful</th>\n",
       "      <th>reviewText</th>\n",
       "      <th>overall</th>\n",
       "      <th>summary</th>\n",
       "      <th>unixReviewTime</th>\n",
       "      <th>reviewTime</th>\n",
       "    </tr>\n",
       "  </thead>\n",
       "  <tbody>\n",
       "    <tr>\n",
       "      <th>0</th>\n",
       "      <td>A1ZQZ8RJS1XVTX</td>\n",
       "      <td>0657745316</td>\n",
       "      <td>gsxrgirl</td>\n",
       "      <td>[0, 0]</td>\n",
       "      <td>No sugar, no GMO garbage, no fillers that come...</td>\n",
       "      <td>5.0</td>\n",
       "      <td>Best vanilla I've ever had</td>\n",
       "      <td>1381449600</td>\n",
       "      <td>10 11, 2013</td>\n",
       "    </tr>\n",
       "    <tr>\n",
       "      <th>1</th>\n",
       "      <td>A31W38VGZAUUM4</td>\n",
       "      <td>0700026444</td>\n",
       "      <td>FIFA Lvr</td>\n",
       "      <td>[1, 1]</td>\n",
       "      <td>This is my absolute, undisputed favorite tea r...</td>\n",
       "      <td>5.0</td>\n",
       "      <td>Terrific Tea!</td>\n",
       "      <td>1354752000</td>\n",
       "      <td>12 6, 2012</td>\n",
       "    </tr>\n",
       "    <tr>\n",
       "      <th>2</th>\n",
       "      <td>A3I0AV0UJX5OH0</td>\n",
       "      <td>1403796890</td>\n",
       "      <td>Alicia b</td>\n",
       "      <td>[0, 0]</td>\n",
       "      <td>I ordered spongbob slippers and I got John Cen...</td>\n",
       "      <td>1.0</td>\n",
       "      <td>grrrrrrr</td>\n",
       "      <td>1385942400</td>\n",
       "      <td>12 2, 2013</td>\n",
       "    </tr>\n",
       "    <tr>\n",
       "      <th>3</th>\n",
       "      <td>A3QAAOLIXKV383</td>\n",
       "      <td>1403796890</td>\n",
       "      <td>Danny K. Tilley \"Dan Tilley\"</td>\n",
       "      <td>[0, 0]</td>\n",
       "      <td>The cart is fine and works for the purpose for...</td>\n",
       "      <td>3.0</td>\n",
       "      <td>Storage on Wheels Cart</td>\n",
       "      <td>1307836800</td>\n",
       "      <td>06 12, 2011</td>\n",
       "    </tr>\n",
       "    <tr>\n",
       "      <th>4</th>\n",
       "      <td>AB1A5EGHHVA9M</td>\n",
       "      <td>141278509X</td>\n",
       "      <td>CHelmic</td>\n",
       "      <td>[1, 1]</td>\n",
       "      <td>This product by Archer Farms is the best drink...</td>\n",
       "      <td>5.0</td>\n",
       "      <td>The best drink mix</td>\n",
       "      <td>1332547200</td>\n",
       "      <td>03 24, 2012</td>\n",
       "    </tr>\n",
       "  </tbody>\n",
       "</table>\n",
       "</div>"
      ],
      "text/plain": [
       "       reviewerID        asin                  reviewerName helpful  \\\n",
       "0  A1ZQZ8RJS1XVTX  0657745316                      gsxrgirl  [0, 0]   \n",
       "1  A31W38VGZAUUM4  0700026444                      FIFA Lvr  [1, 1]   \n",
       "2  A3I0AV0UJX5OH0  1403796890                      Alicia b  [0, 0]   \n",
       "3  A3QAAOLIXKV383  1403796890  Danny K. Tilley \"Dan Tilley\"  [0, 0]   \n",
       "4   AB1A5EGHHVA9M  141278509X                       CHelmic  [1, 1]   \n",
       "\n",
       "                                          reviewText  overall  \\\n",
       "0  No sugar, no GMO garbage, no fillers that come...      5.0   \n",
       "1  This is my absolute, undisputed favorite tea r...      5.0   \n",
       "2  I ordered spongbob slippers and I got John Cen...      1.0   \n",
       "3  The cart is fine and works for the purpose for...      3.0   \n",
       "4  This product by Archer Farms is the best drink...      5.0   \n",
       "\n",
       "                      summary  unixReviewTime   reviewTime  \n",
       "0  Best vanilla I've ever had      1381449600  10 11, 2013  \n",
       "1               Terrific Tea!      1354752000   12 6, 2012  \n",
       "2                    grrrrrrr      1385942400   12 2, 2013  \n",
       "3      Storage on Wheels Cart      1307836800  06 12, 2011  \n",
       "4          The best drink mix      1332547200  03 24, 2012  "
      ]
     },
     "execution_count": 3,
     "metadata": {},
     "output_type": "execute_result"
    }
   ],
   "source": [
    "grocery_review_df= getdf(\"C:/Users/vamsh/OneDrive/Desktop/NIIT/14.Capstone project(Amazon)/reviews_Grocery_and_Gourmet_Food.json.gz\")\n",
    "grocery_review_df.head()   "
   ]
  },
  {
   "cell_type": "code",
   "execution_count": 4,
   "id": "1468bfe7",
   "metadata": {
    "id": "1468bfe7"
   },
   "outputs": [
    {
     "data": {
      "text/plain": [
       "(1297156, 9)"
      ]
     },
     "execution_count": 4,
     "metadata": {},
     "output_type": "execute_result"
    }
   ],
   "source": [
    "grocery_review_df.shape"
   ]
  },
  {
   "cell_type": "code",
   "execution_count": 5,
   "id": "9dcd2bde",
   "metadata": {
    "id": "9dcd2bde"
   },
   "outputs": [
    {
     "data": {
      "text/plain": [
       "reviewerID           0\n",
       "asin                 0\n",
       "reviewerName      7299\n",
       "helpful              0\n",
       "reviewText           0\n",
       "overall              0\n",
       "summary              0\n",
       "unixReviewTime       0\n",
       "reviewTime           0\n",
       "dtype: int64"
      ]
     },
     "execution_count": 5,
     "metadata": {},
     "output_type": "execute_result"
    }
   ],
   "source": [
    "grocery_review_df.isnull().sum()"
   ]
  },
  {
   "cell_type": "code",
   "execution_count": 6,
   "id": "e80bc57c",
   "metadata": {
    "id": "e80bc57c"
   },
   "outputs": [],
   "source": [
    "grocery_review_df.dropna(inplace=True)"
   ]
  },
  {
   "cell_type": "code",
   "execution_count": 7,
   "id": "690ec1a1",
   "metadata": {
    "id": "690ec1a1"
   },
   "outputs": [
    {
     "data": {
      "text/html": [
       "<div>\n",
       "<style scoped>\n",
       "    .dataframe tbody tr th:only-of-type {\n",
       "        vertical-align: middle;\n",
       "    }\n",
       "\n",
       "    .dataframe tbody tr th {\n",
       "        vertical-align: top;\n",
       "    }\n",
       "\n",
       "    .dataframe thead th {\n",
       "        text-align: right;\n",
       "    }\n",
       "</style>\n",
       "<table border=\"1\" class=\"dataframe\">\n",
       "  <thead>\n",
       "    <tr style=\"text-align: right;\">\n",
       "      <th></th>\n",
       "      <th>reviewerID</th>\n",
       "      <th>asin</th>\n",
       "      <th>reviewerName</th>\n",
       "      <th>helpful</th>\n",
       "      <th>reviewText</th>\n",
       "      <th>overall</th>\n",
       "      <th>summary</th>\n",
       "      <th>reviewTime</th>\n",
       "    </tr>\n",
       "  </thead>\n",
       "  <tbody>\n",
       "    <tr>\n",
       "      <th>0</th>\n",
       "      <td>A1ZQZ8RJS1XVTX</td>\n",
       "      <td>0657745316</td>\n",
       "      <td>gsxrgirl</td>\n",
       "      <td>[0, 0]</td>\n",
       "      <td>No sugar, no GMO garbage, no fillers that come...</td>\n",
       "      <td>5.0</td>\n",
       "      <td>Best vanilla I've ever had</td>\n",
       "      <td>10 11, 2013</td>\n",
       "    </tr>\n",
       "    <tr>\n",
       "      <th>1</th>\n",
       "      <td>A31W38VGZAUUM4</td>\n",
       "      <td>0700026444</td>\n",
       "      <td>FIFA Lvr</td>\n",
       "      <td>[1, 1]</td>\n",
       "      <td>This is my absolute, undisputed favorite tea r...</td>\n",
       "      <td>5.0</td>\n",
       "      <td>Terrific Tea!</td>\n",
       "      <td>12 6, 2012</td>\n",
       "    </tr>\n",
       "    <tr>\n",
       "      <th>2</th>\n",
       "      <td>A3I0AV0UJX5OH0</td>\n",
       "      <td>1403796890</td>\n",
       "      <td>Alicia b</td>\n",
       "      <td>[0, 0]</td>\n",
       "      <td>I ordered spongbob slippers and I got John Cen...</td>\n",
       "      <td>1.0</td>\n",
       "      <td>grrrrrrr</td>\n",
       "      <td>12 2, 2013</td>\n",
       "    </tr>\n",
       "    <tr>\n",
       "      <th>3</th>\n",
       "      <td>A3QAAOLIXKV383</td>\n",
       "      <td>1403796890</td>\n",
       "      <td>Danny K. Tilley \"Dan Tilley\"</td>\n",
       "      <td>[0, 0]</td>\n",
       "      <td>The cart is fine and works for the purpose for...</td>\n",
       "      <td>3.0</td>\n",
       "      <td>Storage on Wheels Cart</td>\n",
       "      <td>06 12, 2011</td>\n",
       "    </tr>\n",
       "    <tr>\n",
       "      <th>4</th>\n",
       "      <td>AB1A5EGHHVA9M</td>\n",
       "      <td>141278509X</td>\n",
       "      <td>CHelmic</td>\n",
       "      <td>[1, 1]</td>\n",
       "      <td>This product by Archer Farms is the best drink...</td>\n",
       "      <td>5.0</td>\n",
       "      <td>The best drink mix</td>\n",
       "      <td>03 24, 2012</td>\n",
       "    </tr>\n",
       "    <tr>\n",
       "      <th>...</th>\n",
       "      <td>...</td>\n",
       "      <td>...</td>\n",
       "      <td>...</td>\n",
       "      <td>...</td>\n",
       "      <td>...</td>\n",
       "      <td>...</td>\n",
       "      <td>...</td>\n",
       "      <td>...</td>\n",
       "    </tr>\n",
       "    <tr>\n",
       "      <th>1297151</th>\n",
       "      <td>A1DGBQQIBHTLPF</td>\n",
       "      <td>B00LOZ7F0S</td>\n",
       "      <td>Berkley Roberts</td>\n",
       "      <td>[0, 0]</td>\n",
       "      <td>I was attracted to this product initially beca...</td>\n",
       "      <td>5.0</td>\n",
       "      <td>Great Appeal and Quality!</td>\n",
       "      <td>07 17, 2014</td>\n",
       "    </tr>\n",
       "    <tr>\n",
       "      <th>1297152</th>\n",
       "      <td>A3DYJ90MXMH04P</td>\n",
       "      <td>B00LOZ7F0S</td>\n",
       "      <td>Maximiliano Korp</td>\n",
       "      <td>[1, 1]</td>\n",
       "      <td>Wonderful vanilla. Very strong vanilla flavor,...</td>\n",
       "      <td>5.0</td>\n",
       "      <td>Wonderful vanilla. Very strong vanilla flavor</td>\n",
       "      <td>07 10, 2014</td>\n",
       "    </tr>\n",
       "    <tr>\n",
       "      <th>1297153</th>\n",
       "      <td>AWQYAJV2QWLWA</td>\n",
       "      <td>B00LOZ7F0S</td>\n",
       "      <td>Micheal Taylor</td>\n",
       "      <td>[0, 0]</td>\n",
       "      <td>I usually don't write reviews but this product...</td>\n",
       "      <td>5.0</td>\n",
       "      <td>The best I have found</td>\n",
       "      <td>07 13, 2014</td>\n",
       "    </tr>\n",
       "    <tr>\n",
       "      <th>1297154</th>\n",
       "      <td>A2AT0AI6QKSY2C</td>\n",
       "      <td>B00LOZ7F0S</td>\n",
       "      <td>Willy Korp</td>\n",
       "      <td>[0, 0]</td>\n",
       "      <td>I like to drink my tea with vanilla extract, i...</td>\n",
       "      <td>5.0</td>\n",
       "      <td>Healthy product</td>\n",
       "      <td>07 15, 2014</td>\n",
       "    </tr>\n",
       "    <tr>\n",
       "      <th>1297155</th>\n",
       "      <td>A2NSZZ7Y0RAE45</td>\n",
       "      <td>B00LQWKDBM</td>\n",
       "      <td>Michael Freed \"freedml\"</td>\n",
       "      <td>[0, 0]</td>\n",
       "      <td>Makes AMAZING meatloaf.  It's our &amp;#34;old fam...</td>\n",
       "      <td>5.0</td>\n",
       "      <td>AMAZING meatloaf</td>\n",
       "      <td>07 12, 2014</td>\n",
       "    </tr>\n",
       "  </tbody>\n",
       "</table>\n",
       "<p>1289857 rows × 8 columns</p>\n",
       "</div>"
      ],
      "text/plain": [
       "             reviewerID        asin                  reviewerName helpful  \\\n",
       "0        A1ZQZ8RJS1XVTX  0657745316                      gsxrgirl  [0, 0]   \n",
       "1        A31W38VGZAUUM4  0700026444                      FIFA Lvr  [1, 1]   \n",
       "2        A3I0AV0UJX5OH0  1403796890                      Alicia b  [0, 0]   \n",
       "3        A3QAAOLIXKV383  1403796890  Danny K. Tilley \"Dan Tilley\"  [0, 0]   \n",
       "4         AB1A5EGHHVA9M  141278509X                       CHelmic  [1, 1]   \n",
       "...                 ...         ...                           ...     ...   \n",
       "1297151  A1DGBQQIBHTLPF  B00LOZ7F0S               Berkley Roberts  [0, 0]   \n",
       "1297152  A3DYJ90MXMH04P  B00LOZ7F0S              Maximiliano Korp  [1, 1]   \n",
       "1297153   AWQYAJV2QWLWA  B00LOZ7F0S                Micheal Taylor  [0, 0]   \n",
       "1297154  A2AT0AI6QKSY2C  B00LOZ7F0S                    Willy Korp  [0, 0]   \n",
       "1297155  A2NSZZ7Y0RAE45  B00LQWKDBM       Michael Freed \"freedml\"  [0, 0]   \n",
       "\n",
       "                                                reviewText  overall  \\\n",
       "0        No sugar, no GMO garbage, no fillers that come...      5.0   \n",
       "1        This is my absolute, undisputed favorite tea r...      5.0   \n",
       "2        I ordered spongbob slippers and I got John Cen...      1.0   \n",
       "3        The cart is fine and works for the purpose for...      3.0   \n",
       "4        This product by Archer Farms is the best drink...      5.0   \n",
       "...                                                    ...      ...   \n",
       "1297151  I was attracted to this product initially beca...      5.0   \n",
       "1297152  Wonderful vanilla. Very strong vanilla flavor,...      5.0   \n",
       "1297153  I usually don't write reviews but this product...      5.0   \n",
       "1297154  I like to drink my tea with vanilla extract, i...      5.0   \n",
       "1297155  Makes AMAZING meatloaf.  It's our &#34;old fam...      5.0   \n",
       "\n",
       "                                               summary   reviewTime  \n",
       "0                           Best vanilla I've ever had  10 11, 2013  \n",
       "1                                        Terrific Tea!   12 6, 2012  \n",
       "2                                             grrrrrrr   12 2, 2013  \n",
       "3                               Storage on Wheels Cart  06 12, 2011  \n",
       "4                                   The best drink mix  03 24, 2012  \n",
       "...                                                ...          ...  \n",
       "1297151                      Great Appeal and Quality!  07 17, 2014  \n",
       "1297152  Wonderful vanilla. Very strong vanilla flavor  07 10, 2014  \n",
       "1297153                          The best I have found  07 13, 2014  \n",
       "1297154                                Healthy product  07 15, 2014  \n",
       "1297155                               AMAZING meatloaf  07 12, 2014  \n",
       "\n",
       "[1289857 rows x 8 columns]"
      ]
     },
     "execution_count": 7,
     "metadata": {},
     "output_type": "execute_result"
    }
   ],
   "source": [
    "grocery_review_df = grocery_review_df.drop(['unixReviewTime'], axis=1)\n",
    "grocery_review_df"
   ]
  },
  {
   "cell_type": "code",
   "execution_count": 8,
   "id": "50041940",
   "metadata": {
    "id": "50041940"
   },
   "outputs": [],
   "source": [
    "grocery_review_df.drop_duplicates(subset=['reviewText'],keep='first',inplace=True)"
   ]
  },
  {
   "cell_type": "code",
   "execution_count": 9,
   "id": "d303152e",
   "metadata": {
    "id": "d303152e"
   },
   "outputs": [
    {
     "data": {
      "text/plain": [
       "reviewerID      0\n",
       "asin            0\n",
       "reviewerName    0\n",
       "helpful         0\n",
       "reviewText      0\n",
       "overall         0\n",
       "summary         0\n",
       "reviewTime      0\n",
       "dtype: int64"
      ]
     },
     "execution_count": 9,
     "metadata": {},
     "output_type": "execute_result"
    }
   ],
   "source": [
    "grocery_review_df.isnull().sum()"
   ]
  },
  {
   "cell_type": "code",
   "execution_count": 10,
   "id": "4792a3b2",
   "metadata": {
    "id": "4792a3b2"
   },
   "outputs": [
    {
     "data": {
      "text/html": [
       "<div>\n",
       "<style scoped>\n",
       "    .dataframe tbody tr th:only-of-type {\n",
       "        vertical-align: middle;\n",
       "    }\n",
       "\n",
       "    .dataframe tbody tr th {\n",
       "        vertical-align: top;\n",
       "    }\n",
       "\n",
       "    .dataframe thead th {\n",
       "        text-align: right;\n",
       "    }\n",
       "</style>\n",
       "<table border=\"1\" class=\"dataframe\">\n",
       "  <thead>\n",
       "    <tr style=\"text-align: right;\">\n",
       "      <th></th>\n",
       "      <th>reviewerID</th>\n",
       "      <th>asin</th>\n",
       "      <th>reviewerName</th>\n",
       "      <th>helpful</th>\n",
       "      <th>reviewText</th>\n",
       "      <th>overall</th>\n",
       "      <th>summary</th>\n",
       "      <th>reviewTime</th>\n",
       "    </tr>\n",
       "  </thead>\n",
       "  <tbody>\n",
       "    <tr>\n",
       "      <th>0</th>\n",
       "      <td>A1ZQZ8RJS1XVTX</td>\n",
       "      <td>0657745316</td>\n",
       "      <td>gsxrgirl</td>\n",
       "      <td>[0, 0]</td>\n",
       "      <td>No sugar, no GMO garbage, no fillers that come...</td>\n",
       "      <td>5.0</td>\n",
       "      <td>Best vanilla I've ever had</td>\n",
       "      <td>10 11, 2013</td>\n",
       "    </tr>\n",
       "    <tr>\n",
       "      <th>1</th>\n",
       "      <td>A31W38VGZAUUM4</td>\n",
       "      <td>0700026444</td>\n",
       "      <td>FIFA Lvr</td>\n",
       "      <td>[1, 1]</td>\n",
       "      <td>This is my absolute, undisputed favorite tea r...</td>\n",
       "      <td>5.0</td>\n",
       "      <td>Terrific Tea!</td>\n",
       "      <td>12 6, 2012</td>\n",
       "    </tr>\n",
       "    <tr>\n",
       "      <th>2</th>\n",
       "      <td>A3I0AV0UJX5OH0</td>\n",
       "      <td>1403796890</td>\n",
       "      <td>Alicia b</td>\n",
       "      <td>[0, 0]</td>\n",
       "      <td>I ordered spongbob slippers and I got John Cen...</td>\n",
       "      <td>1.0</td>\n",
       "      <td>grrrrrrr</td>\n",
       "      <td>12 2, 2013</td>\n",
       "    </tr>\n",
       "    <tr>\n",
       "      <th>3</th>\n",
       "      <td>A3QAAOLIXKV383</td>\n",
       "      <td>1403796890</td>\n",
       "      <td>Danny K. Tilley \"Dan Tilley\"</td>\n",
       "      <td>[0, 0]</td>\n",
       "      <td>The cart is fine and works for the purpose for...</td>\n",
       "      <td>3.0</td>\n",
       "      <td>Storage on Wheels Cart</td>\n",
       "      <td>06 12, 2011</td>\n",
       "    </tr>\n",
       "    <tr>\n",
       "      <th>4</th>\n",
       "      <td>AB1A5EGHHVA9M</td>\n",
       "      <td>141278509X</td>\n",
       "      <td>CHelmic</td>\n",
       "      <td>[1, 1]</td>\n",
       "      <td>This product by Archer Farms is the best drink...</td>\n",
       "      <td>5.0</td>\n",
       "      <td>The best drink mix</td>\n",
       "      <td>03 24, 2012</td>\n",
       "    </tr>\n",
       "  </tbody>\n",
       "</table>\n",
       "</div>"
      ],
      "text/plain": [
       "       reviewerID        asin                  reviewerName helpful  \\\n",
       "0  A1ZQZ8RJS1XVTX  0657745316                      gsxrgirl  [0, 0]   \n",
       "1  A31W38VGZAUUM4  0700026444                      FIFA Lvr  [1, 1]   \n",
       "2  A3I0AV0UJX5OH0  1403796890                      Alicia b  [0, 0]   \n",
       "3  A3QAAOLIXKV383  1403796890  Danny K. Tilley \"Dan Tilley\"  [0, 0]   \n",
       "4   AB1A5EGHHVA9M  141278509X                       CHelmic  [1, 1]   \n",
       "\n",
       "                                          reviewText  overall  \\\n",
       "0  No sugar, no GMO garbage, no fillers that come...      5.0   \n",
       "1  This is my absolute, undisputed favorite tea r...      5.0   \n",
       "2  I ordered spongbob slippers and I got John Cen...      1.0   \n",
       "3  The cart is fine and works for the purpose for...      3.0   \n",
       "4  This product by Archer Farms is the best drink...      5.0   \n",
       "\n",
       "                      summary   reviewTime  \n",
       "0  Best vanilla I've ever had  10 11, 2013  \n",
       "1               Terrific Tea!   12 6, 2012  \n",
       "2                    grrrrrrr   12 2, 2013  \n",
       "3      Storage on Wheels Cart  06 12, 2011  \n",
       "4          The best drink mix  03 24, 2012  "
      ]
     },
     "execution_count": 10,
     "metadata": {},
     "output_type": "execute_result"
    }
   ],
   "source": [
    "grocery_review_df.head()"
   ]
  },
  {
   "cell_type": "markdown",
   "id": "e67a0a8a",
   "metadata": {},
   "source": [
    "## ====================SENTIMENT ANALYSIS============================"
   ]
  },
  {
   "cell_type": "code",
   "execution_count": 11,
   "id": "c9338095",
   "metadata": {
    "id": "c9338095"
   },
   "outputs": [],
   "source": [
    "import re\n",
    "\n",
    "def cleaning(text):\n",
    "    text=re.sub(r'[,!*£()+.?]',' ',text) \n",
    "    text=''.join([i for i in text if not i.isdigit()])## used to remove the numerical values\n",
    "    text=' '.join(text.split()) ## use to remove the extra space\n",
    "    text=re.sub(r'[,.+£\"#;:''@=//]','',text) ## use to remove the special characters\n",
    "    text=re.sub('-(?!\\w)','',text) ## removes hyphon\n",
    "    text=re.sub(r'[^\\w\\s]','',text) ## removes the punctuations \n",
    "    text=re.sub(r\"\\\\b(\\\\w+)(?:\\\\W+\\\\1\\\\b)+\",'',text) #removes the repeted words\n",
    "    text=text.lower()\n",
    "\n",
    "    return text"
   ]
  },
  {
   "cell_type": "code",
   "execution_count": 12,
   "id": "c15591a0",
   "metadata": {
    "id": "c15591a0"
   },
   "outputs": [],
   "source": [
    "grocery_review_df['reviewText']=grocery_review_df['reviewText'].apply(cleaning)\n",
    "grocery_review_df['summary']=grocery_review_df['summary'].apply(cleaning)\n",
    "grocery_review_df['reviewerName']=grocery_review_df['reviewerName'].apply(cleaning)"
   ]
  },
  {
   "cell_type": "code",
   "execution_count": 13,
   "id": "34d588ea",
   "metadata": {
    "id": "34d588ea"
   },
   "outputs": [],
   "source": [
    "grocery_review_df['reviewText']=grocery_review_df['reviewText'].astype(str)"
   ]
  },
  {
   "cell_type": "code",
   "execution_count": 14,
   "id": "59f94a7f",
   "metadata": {
    "id": "59f94a7f"
   },
   "outputs": [
    {
     "data": {
      "text/html": [
       "<div>\n",
       "<style scoped>\n",
       "    .dataframe tbody tr th:only-of-type {\n",
       "        vertical-align: middle;\n",
       "    }\n",
       "\n",
       "    .dataframe tbody tr th {\n",
       "        vertical-align: top;\n",
       "    }\n",
       "\n",
       "    .dataframe thead th {\n",
       "        text-align: right;\n",
       "    }\n",
       "</style>\n",
       "<table border=\"1\" class=\"dataframe\">\n",
       "  <thead>\n",
       "    <tr style=\"text-align: right;\">\n",
       "      <th></th>\n",
       "      <th>reviewerID</th>\n",
       "      <th>asin</th>\n",
       "      <th>reviewerName</th>\n",
       "      <th>helpful</th>\n",
       "      <th>overall</th>\n",
       "      <th>reviewTime</th>\n",
       "      <th>review_text</th>\n",
       "    </tr>\n",
       "  </thead>\n",
       "  <tbody>\n",
       "    <tr>\n",
       "      <th>0</th>\n",
       "      <td>A1ZQZ8RJS1XVTX</td>\n",
       "      <td>0657745316</td>\n",
       "      <td>gsxrgirl</td>\n",
       "      <td>[0, 0]</td>\n",
       "      <td>5.0</td>\n",
       "      <td>10 11, 2013</td>\n",
       "      <td>best vanilla ive ever had no sugar no gmo garb...</td>\n",
       "    </tr>\n",
       "    <tr>\n",
       "      <th>1</th>\n",
       "      <td>A31W38VGZAUUM4</td>\n",
       "      <td>0700026444</td>\n",
       "      <td>fifa lvr</td>\n",
       "      <td>[1, 1]</td>\n",
       "      <td>5.0</td>\n",
       "      <td>12 6, 2012</td>\n",
       "      <td>terrific tea this is my absolute undisputed fa...</td>\n",
       "    </tr>\n",
       "    <tr>\n",
       "      <th>2</th>\n",
       "      <td>A3I0AV0UJX5OH0</td>\n",
       "      <td>1403796890</td>\n",
       "      <td>alicia b</td>\n",
       "      <td>[0, 0]</td>\n",
       "      <td>1.0</td>\n",
       "      <td>12 2, 2013</td>\n",
       "      <td>grrrrrrr i ordered spongbob slippers and i got...</td>\n",
       "    </tr>\n",
       "    <tr>\n",
       "      <th>3</th>\n",
       "      <td>A3QAAOLIXKV383</td>\n",
       "      <td>1403796890</td>\n",
       "      <td>danny k tilley dan tilley</td>\n",
       "      <td>[0, 0]</td>\n",
       "      <td>3.0</td>\n",
       "      <td>06 12, 2011</td>\n",
       "      <td>storage on wheels cart the cart is fine and wo...</td>\n",
       "    </tr>\n",
       "    <tr>\n",
       "      <th>4</th>\n",
       "      <td>AB1A5EGHHVA9M</td>\n",
       "      <td>141278509X</td>\n",
       "      <td>chelmic</td>\n",
       "      <td>[1, 1]</td>\n",
       "      <td>5.0</td>\n",
       "      <td>03 24, 2012</td>\n",
       "      <td>the best drink mix this product by archer farm...</td>\n",
       "    </tr>\n",
       "  </tbody>\n",
       "</table>\n",
       "</div>"
      ],
      "text/plain": [
       "       reviewerID        asin               reviewerName helpful  overall  \\\n",
       "0  A1ZQZ8RJS1XVTX  0657745316                   gsxrgirl  [0, 0]      5.0   \n",
       "1  A31W38VGZAUUM4  0700026444                   fifa lvr  [1, 1]      5.0   \n",
       "2  A3I0AV0UJX5OH0  1403796890                   alicia b  [0, 0]      1.0   \n",
       "3  A3QAAOLIXKV383  1403796890  danny k tilley dan tilley  [0, 0]      3.0   \n",
       "4   AB1A5EGHHVA9M  141278509X                    chelmic  [1, 1]      5.0   \n",
       "\n",
       "    reviewTime                                        review_text  \n",
       "0  10 11, 2013  best vanilla ive ever had no sugar no gmo garb...  \n",
       "1   12 6, 2012  terrific tea this is my absolute undisputed fa...  \n",
       "2   12 2, 2013  grrrrrrr i ordered spongbob slippers and i got...  \n",
       "3  06 12, 2011  storage on wheels cart the cart is fine and wo...  \n",
       "4  03 24, 2012  the best drink mix this product by archer farm...  "
      ]
     },
     "execution_count": 14,
     "metadata": {},
     "output_type": "execute_result"
    }
   ],
   "source": [
    "## CONCATENATE REVIEWTEXT AND SUMMARY \n",
    "\n",
    "grocery_review_df['review_text'] = grocery_review_df[['summary', 'reviewText']].apply(lambda x: \" \".join(str(y) for y in x if str(y) != 'nan'), axis = 1)\n",
    "grocery_review_df1 = grocery_review_df.drop(['reviewText', 'summary'], axis = 1)\n",
    "grocery_review_df1.head()"
   ]
  },
  {
   "cell_type": "code",
   "execution_count": 15,
   "id": "b465023f",
   "metadata": {
    "id": "b465023f"
   },
   "outputs": [
    {
     "data": {
      "text/html": [
       "<div>\n",
       "<style scoped>\n",
       "    .dataframe tbody tr th:only-of-type {\n",
       "        vertical-align: middle;\n",
       "    }\n",
       "\n",
       "    .dataframe tbody tr th {\n",
       "        vertical-align: top;\n",
       "    }\n",
       "\n",
       "    .dataframe thead th {\n",
       "        text-align: right;\n",
       "    }\n",
       "</style>\n",
       "<table border=\"1\" class=\"dataframe\">\n",
       "  <thead>\n",
       "    <tr style=\"text-align: right;\">\n",
       "      <th></th>\n",
       "      <th>reviewerID</th>\n",
       "      <th>asin</th>\n",
       "      <th>reviewerName</th>\n",
       "      <th>overall</th>\n",
       "      <th>reviewTime</th>\n",
       "      <th>review_text</th>\n",
       "      <th>pos_feedback</th>\n",
       "      <th>neg_feedback</th>\n",
       "    </tr>\n",
       "  </thead>\n",
       "  <tbody>\n",
       "    <tr>\n",
       "      <th>0</th>\n",
       "      <td>A1ZQZ8RJS1XVTX</td>\n",
       "      <td>0657745316</td>\n",
       "      <td>gsxrgirl</td>\n",
       "      <td>5.0</td>\n",
       "      <td>10 11, 2013</td>\n",
       "      <td>best vanilla ive ever had no sugar no gmo garb...</td>\n",
       "      <td>0</td>\n",
       "      <td>0</td>\n",
       "    </tr>\n",
       "    <tr>\n",
       "      <th>1</th>\n",
       "      <td>A31W38VGZAUUM4</td>\n",
       "      <td>0700026444</td>\n",
       "      <td>fifa lvr</td>\n",
       "      <td>5.0</td>\n",
       "      <td>12 6, 2012</td>\n",
       "      <td>terrific tea this is my absolute undisputed fa...</td>\n",
       "      <td>1</td>\n",
       "      <td>0</td>\n",
       "    </tr>\n",
       "    <tr>\n",
       "      <th>2</th>\n",
       "      <td>A3I0AV0UJX5OH0</td>\n",
       "      <td>1403796890</td>\n",
       "      <td>alicia b</td>\n",
       "      <td>1.0</td>\n",
       "      <td>12 2, 2013</td>\n",
       "      <td>grrrrrrr i ordered spongbob slippers and i got...</td>\n",
       "      <td>0</td>\n",
       "      <td>0</td>\n",
       "    </tr>\n",
       "    <tr>\n",
       "      <th>3</th>\n",
       "      <td>A3QAAOLIXKV383</td>\n",
       "      <td>1403796890</td>\n",
       "      <td>danny k tilley dan tilley</td>\n",
       "      <td>3.0</td>\n",
       "      <td>06 12, 2011</td>\n",
       "      <td>storage on wheels cart the cart is fine and wo...</td>\n",
       "      <td>0</td>\n",
       "      <td>0</td>\n",
       "    </tr>\n",
       "    <tr>\n",
       "      <th>4</th>\n",
       "      <td>AB1A5EGHHVA9M</td>\n",
       "      <td>141278509X</td>\n",
       "      <td>chelmic</td>\n",
       "      <td>5.0</td>\n",
       "      <td>03 24, 2012</td>\n",
       "      <td>the best drink mix this product by archer farm...</td>\n",
       "      <td>1</td>\n",
       "      <td>0</td>\n",
       "    </tr>\n",
       "  </tbody>\n",
       "</table>\n",
       "</div>"
      ],
      "text/plain": [
       "       reviewerID        asin               reviewerName  overall  \\\n",
       "0  A1ZQZ8RJS1XVTX  0657745316                   gsxrgirl      5.0   \n",
       "1  A31W38VGZAUUM4  0700026444                   fifa lvr      5.0   \n",
       "2  A3I0AV0UJX5OH0  1403796890                   alicia b      1.0   \n",
       "3  A3QAAOLIXKV383  1403796890  danny k tilley dan tilley      3.0   \n",
       "4   AB1A5EGHHVA9M  141278509X                    chelmic      5.0   \n",
       "\n",
       "    reviewTime                                        review_text  \\\n",
       "0  10 11, 2013  best vanilla ive ever had no sugar no gmo garb...   \n",
       "1   12 6, 2012  terrific tea this is my absolute undisputed fa...   \n",
       "2   12 2, 2013  grrrrrrr i ordered spongbob slippers and i got...   \n",
       "3  06 12, 2011  storage on wheels cart the cart is fine and wo...   \n",
       "4  03 24, 2012  the best drink mix this product by archer farm...   \n",
       "\n",
       "   pos_feedback  neg_feedback  \n",
       "0             0             0  \n",
       "1             1             0  \n",
       "2             0             0  \n",
       "3             0             0  \n",
       "4             1             0  "
      ]
     },
     "execution_count": 15,
     "metadata": {},
     "output_type": "execute_result"
    }
   ],
   "source": [
    "# Split 'helpful' column into 'neg_feedback' and 'pos_feedback' and drop it at the end\n",
    "list_positive = []\n",
    "list_negative = []\n",
    "\n",
    "for help in grocery_review_df1['helpful']:\n",
    "    list_positive.append(help[0])\n",
    "    list_negative.append(help[1] - help[0])\n",
    "    \n",
    "# Positive Feedback (Supporting reviewer's idea and find it useful)\n",
    "grocery_review_df1['pos_feedback'] = list_positive\n",
    "\n",
    "# Negative Feedback (Finding reviewer's idea useless and not supporting it)\n",
    "grocery_review_df1['neg_feedback'] = list_negative\n",
    "\n",
    "# Drop redundant 'helpful' column\n",
    "grocery_review_df1 = grocery_review_df1.drop('helpful', axis = 1)\n",
    "grocery_review_df1.head()\n"
   ]
  },
  {
   "cell_type": "code",
   "execution_count": 16,
   "id": "0161ca7b",
   "metadata": {
    "id": "0161ca7b"
   },
   "outputs": [
    {
     "name": "stdout",
     "output_type": "stream",
     "text": [
      "Good ratings : 1124190 \n",
      "Bad ratings : 163651\n"
     ]
    },
    {
     "data": {
      "text/html": [
       "<div>\n",
       "<style scoped>\n",
       "    .dataframe tbody tr th:only-of-type {\n",
       "        vertical-align: middle;\n",
       "    }\n",
       "\n",
       "    .dataframe tbody tr th {\n",
       "        vertical-align: top;\n",
       "    }\n",
       "\n",
       "    .dataframe thead th {\n",
       "        text-align: right;\n",
       "    }\n",
       "</style>\n",
       "<table border=\"1\" class=\"dataframe\">\n",
       "  <thead>\n",
       "    <tr style=\"text-align: right;\">\n",
       "      <th></th>\n",
       "      <th>reviewerID</th>\n",
       "      <th>asin</th>\n",
       "      <th>reviewerName</th>\n",
       "      <th>overall</th>\n",
       "      <th>reviewTime</th>\n",
       "      <th>review_text</th>\n",
       "      <th>pos_feedback</th>\n",
       "      <th>neg_feedback</th>\n",
       "      <th>rating_class</th>\n",
       "    </tr>\n",
       "  </thead>\n",
       "  <tbody>\n",
       "    <tr>\n",
       "      <th>0</th>\n",
       "      <td>A1ZQZ8RJS1XVTX</td>\n",
       "      <td>0657745316</td>\n",
       "      <td>gsxrgirl</td>\n",
       "      <td>5.0</td>\n",
       "      <td>10 11, 2013</td>\n",
       "      <td>best vanilla ive ever had no sugar no gmo garb...</td>\n",
       "      <td>0</td>\n",
       "      <td>0</td>\n",
       "      <td>good</td>\n",
       "    </tr>\n",
       "    <tr>\n",
       "      <th>1</th>\n",
       "      <td>A31W38VGZAUUM4</td>\n",
       "      <td>0700026444</td>\n",
       "      <td>fifa lvr</td>\n",
       "      <td>5.0</td>\n",
       "      <td>12 6, 2012</td>\n",
       "      <td>terrific tea this is my absolute undisputed fa...</td>\n",
       "      <td>1</td>\n",
       "      <td>0</td>\n",
       "      <td>good</td>\n",
       "    </tr>\n",
       "    <tr>\n",
       "      <th>2</th>\n",
       "      <td>A3I0AV0UJX5OH0</td>\n",
       "      <td>1403796890</td>\n",
       "      <td>alicia b</td>\n",
       "      <td>1.0</td>\n",
       "      <td>12 2, 2013</td>\n",
       "      <td>grrrrrrr i ordered spongbob slippers and i got...</td>\n",
       "      <td>0</td>\n",
       "      <td>0</td>\n",
       "      <td>bad</td>\n",
       "    </tr>\n",
       "    <tr>\n",
       "      <th>3</th>\n",
       "      <td>A3QAAOLIXKV383</td>\n",
       "      <td>1403796890</td>\n",
       "      <td>danny k tilley dan tilley</td>\n",
       "      <td>3.0</td>\n",
       "      <td>06 12, 2011</td>\n",
       "      <td>storage on wheels cart the cart is fine and wo...</td>\n",
       "      <td>0</td>\n",
       "      <td>0</td>\n",
       "      <td>good</td>\n",
       "    </tr>\n",
       "    <tr>\n",
       "      <th>4</th>\n",
       "      <td>AB1A5EGHHVA9M</td>\n",
       "      <td>141278509X</td>\n",
       "      <td>chelmic</td>\n",
       "      <td>5.0</td>\n",
       "      <td>03 24, 2012</td>\n",
       "      <td>the best drink mix this product by archer farm...</td>\n",
       "      <td>1</td>\n",
       "      <td>0</td>\n",
       "      <td>good</td>\n",
       "    </tr>\n",
       "  </tbody>\n",
       "</table>\n",
       "</div>"
      ],
      "text/plain": [
       "       reviewerID        asin               reviewerName  overall  \\\n",
       "0  A1ZQZ8RJS1XVTX  0657745316                   gsxrgirl      5.0   \n",
       "1  A31W38VGZAUUM4  0700026444                   fifa lvr      5.0   \n",
       "2  A3I0AV0UJX5OH0  1403796890                   alicia b      1.0   \n",
       "3  A3QAAOLIXKV383  1403796890  danny k tilley dan tilley      3.0   \n",
       "4   AB1A5EGHHVA9M  141278509X                    chelmic      5.0   \n",
       "\n",
       "    reviewTime                                        review_text  \\\n",
       "0  10 11, 2013  best vanilla ive ever had no sugar no gmo garb...   \n",
       "1   12 6, 2012  terrific tea this is my absolute undisputed fa...   \n",
       "2   12 2, 2013  grrrrrrr i ordered spongbob slippers and i got...   \n",
       "3  06 12, 2011  storage on wheels cart the cart is fine and wo...   \n",
       "4  03 24, 2012  the best drink mix this product by archer farm...   \n",
       "\n",
       "   pos_feedback  neg_feedback rating_class  \n",
       "0             0             0         good  \n",
       "1             1             0         good  \n",
       "2             0             0          bad  \n",
       "3             0             0         good  \n",
       "4             1             0         good  "
      ]
     },
     "execution_count": 16,
     "metadata": {},
     "output_type": "execute_result"
    }
   ],
   "source": [
    "# Classify ratings as good\n",
    "good = len(grocery_review_df1[grocery_review_df1['overall'] >= 3])\n",
    "bad = len(grocery_review_df1[grocery_review_df1['overall'] < 3])\n",
    "\n",
    "# Printing rates and their total numbers\n",
    "print ('Good ratings : {} '.format(good))\n",
    "print ('Bad ratings : {}'.format(bad))\n",
    "\n",
    "# Apply the new classification to the ratings column\n",
    "grocery_review_df1['rating_class'] = grocery_review_df1['overall'].apply(lambda x: 'bad' if x < 3 else 'good')\n",
    "grocery_review_df1.head()"
   ]
  },
  {
   "cell_type": "code",
   "execution_count": 17,
   "id": "d8578c6d",
   "metadata": {},
   "outputs": [],
   "source": [
    "import nltk\n",
    "from nltk.stem import WordNetLemmatizer"
   ]
  },
  {
   "cell_type": "code",
   "execution_count": 18,
   "id": "23f5871f",
   "metadata": {},
   "outputs": [
    {
     "data": {
      "text/html": [
       "<div>\n",
       "<style scoped>\n",
       "    .dataframe tbody tr th:only-of-type {\n",
       "        vertical-align: middle;\n",
       "    }\n",
       "\n",
       "    .dataframe tbody tr th {\n",
       "        vertical-align: top;\n",
       "    }\n",
       "\n",
       "    .dataframe thead th {\n",
       "        text-align: right;\n",
       "    }\n",
       "</style>\n",
       "<table border=\"1\" class=\"dataframe\">\n",
       "  <thead>\n",
       "    <tr style=\"text-align: right;\">\n",
       "      <th></th>\n",
       "      <th>tokenized</th>\n",
       "    </tr>\n",
       "  </thead>\n",
       "  <tbody>\n",
       "    <tr>\n",
       "      <th>0</th>\n",
       "      <td>[best, vanilla, ive, ever, had, no, sugar, no,...</td>\n",
       "    </tr>\n",
       "    <tr>\n",
       "      <th>1</th>\n",
       "      <td>[terrific, tea, this, is, my, absolute, undisp...</td>\n",
       "    </tr>\n",
       "    <tr>\n",
       "      <th>2</th>\n",
       "      <td>[grrrrrrr, i, ordered, spongbob, slippers, and...</td>\n",
       "    </tr>\n",
       "    <tr>\n",
       "      <th>3</th>\n",
       "      <td>[storage, on, wheels, cart, the, cart, is, fin...</td>\n",
       "    </tr>\n",
       "    <tr>\n",
       "      <th>4</th>\n",
       "      <td>[the, best, drink, mix, this, product, by, arc...</td>\n",
       "    </tr>\n",
       "  </tbody>\n",
       "</table>\n",
       "</div>"
      ],
      "text/plain": [
       "                                           tokenized\n",
       "0  [best, vanilla, ive, ever, had, no, sugar, no,...\n",
       "1  [terrific, tea, this, is, my, absolute, undisp...\n",
       "2  [grrrrrrr, i, ordered, spongbob, slippers, and...\n",
       "3  [storage, on, wheels, cart, the, cart, is, fin...\n",
       "4  [the, best, drink, mix, this, product, by, arc..."
      ]
     },
     "execution_count": 18,
     "metadata": {},
     "output_type": "execute_result"
    }
   ],
   "source": [
    "def tokenize(column):\n",
    "    #Tokenizes a Pandas dataframe column and returns a list of tokens.\n",
    "    tokens = nltk.word_tokenize(column)\n",
    "    return [w for w in tokens if w.islower()]  \n",
    "\n",
    "grocery_review_df1['tokenized'] = grocery_review_df1['review_text'].apply(tokenize)\n",
    "grocery_review_df1[['tokenized']].head()"
   ]
  },
  {
   "cell_type": "code",
   "execution_count": 19,
   "id": "739c8077",
   "metadata": {},
   "outputs": [],
   "source": [
    "import nltk\n",
    "from nltk.corpus import stopwords\n",
    "stop_words = stopwords.words('english')"
   ]
  },
  {
   "cell_type": "code",
   "execution_count": 20,
   "id": "72206640",
   "metadata": {},
   "outputs": [],
   "source": [
    "grocery_review_df1['tokenized'] = grocery_review_df1['tokenized'].apply(lambda w: [w for w in w if w not in stop_words])"
   ]
  },
  {
   "cell_type": "code",
   "execution_count": 21,
   "id": "35d0f91c",
   "metadata": {},
   "outputs": [],
   "source": [
    "#!pip install textblob"
   ]
  },
  {
   "cell_type": "code",
   "execution_count": 21,
   "id": "35fbae2c",
   "metadata": {},
   "outputs": [],
   "source": [
    "from textblob import TextBlob\n",
    "# function to calculate polarity\n",
    "def getPolarity(review):\n",
    "    return TextBlob(review).sentiment.polarity\n",
    "\n",
    "# Polarity – talks about how positive or negative the opinion is\n",
    "## Polarity ranges from -1 to 1 (1 is more positive, 0 is neutral, -1 is more negative)\n",
    "\n",
    "# function to analyze the reviews\n",
    "def analysis(score):\n",
    "    if score < 0:\n",
    "        return 0 #negative\n",
    "    elif score == 0:\n",
    "        return 2 #neutral\n",
    "    else:\n",
    "        return 1 #positive"
   ]
  },
  {
   "cell_type": "code",
   "execution_count": 22,
   "id": "def3c252",
   "metadata": {},
   "outputs": [],
   "source": [
    "grocery_review_df1['tokenized'] = grocery_review_df1['tokenized'].astype(str)"
   ]
  },
  {
   "cell_type": "code",
   "execution_count": 23,
   "id": "c217492f",
   "metadata": {},
   "outputs": [],
   "source": [
    "grocery_review_df1['Polarity'] = grocery_review_df1['tokenized'].apply(getPolarity) "
   ]
  },
  {
   "cell_type": "code",
   "execution_count": 24,
   "id": "4eeb9b77",
   "metadata": {},
   "outputs": [
    {
     "data": {
      "text/html": [
       "<div>\n",
       "<style scoped>\n",
       "    .dataframe tbody tr th:only-of-type {\n",
       "        vertical-align: middle;\n",
       "    }\n",
       "\n",
       "    .dataframe tbody tr th {\n",
       "        vertical-align: top;\n",
       "    }\n",
       "\n",
       "    .dataframe thead th {\n",
       "        text-align: right;\n",
       "    }\n",
       "</style>\n",
       "<table border=\"1\" class=\"dataframe\">\n",
       "  <thead>\n",
       "    <tr style=\"text-align: right;\">\n",
       "      <th></th>\n",
       "      <th>Polarity</th>\n",
       "    </tr>\n",
       "  </thead>\n",
       "  <tbody>\n",
       "    <tr>\n",
       "      <th>0</th>\n",
       "      <td>0.195578</td>\n",
       "    </tr>\n",
       "    <tr>\n",
       "      <th>1</th>\n",
       "      <td>0.236842</td>\n",
       "    </tr>\n",
       "    <tr>\n",
       "      <th>2</th>\n",
       "      <td>0.200000</td>\n",
       "    </tr>\n",
       "    <tr>\n",
       "      <th>3</th>\n",
       "      <td>0.058333</td>\n",
       "    </tr>\n",
       "    <tr>\n",
       "      <th>4</th>\n",
       "      <td>0.487755</td>\n",
       "    </tr>\n",
       "    <tr>\n",
       "      <th>...</th>\n",
       "      <td>...</td>\n",
       "    </tr>\n",
       "    <tr>\n",
       "      <th>1297151</th>\n",
       "      <td>0.275000</td>\n",
       "    </tr>\n",
       "    <tr>\n",
       "      <th>1297152</th>\n",
       "      <td>0.500000</td>\n",
       "    </tr>\n",
       "    <tr>\n",
       "      <th>1297153</th>\n",
       "      <td>0.451429</td>\n",
       "    </tr>\n",
       "    <tr>\n",
       "      <th>1297154</th>\n",
       "      <td>0.532000</td>\n",
       "    </tr>\n",
       "    <tr>\n",
       "      <th>1297155</th>\n",
       "      <td>0.433333</td>\n",
       "    </tr>\n",
       "  </tbody>\n",
       "</table>\n",
       "<p>1287841 rows × 1 columns</p>\n",
       "</div>"
      ],
      "text/plain": [
       "         Polarity\n",
       "0        0.195578\n",
       "1        0.236842\n",
       "2        0.200000\n",
       "3        0.058333\n",
       "4        0.487755\n",
       "...           ...\n",
       "1297151  0.275000\n",
       "1297152  0.500000\n",
       "1297153  0.451429\n",
       "1297154  0.532000\n",
       "1297155  0.433333\n",
       "\n",
       "[1287841 rows x 1 columns]"
      ]
     },
     "execution_count": 24,
     "metadata": {},
     "output_type": "execute_result"
    }
   ],
   "source": [
    "grocery_review_df1[['Polarity']]"
   ]
  },
  {
   "cell_type": "code",
   "execution_count": 25,
   "id": "8f467e40",
   "metadata": {},
   "outputs": [],
   "source": [
    "def sentiment(score):\n",
    "    if score < 0:\n",
    "        return 'Negative' \n",
    "    elif score == 0:\n",
    "        return 'Neutral'\n",
    "    else:\n",
    "        return 'Positive'"
   ]
  },
  {
   "cell_type": "code",
   "execution_count": 26,
   "id": "abfcf349",
   "metadata": {},
   "outputs": [
    {
     "data": {
      "text/plain": [
       "1    1154667\n",
       "0     114561\n",
       "2      18613\n",
       "Name: Sentiment, dtype: int64"
      ]
     },
     "execution_count": 26,
     "metadata": {},
     "output_type": "execute_result"
    }
   ],
   "source": [
    "grocery_review_df1['Sentiment'] = grocery_review_df1['Polarity'].apply(analysis)\n",
    "grocery_review_df1['Sentiment'].value_counts()\n"
   ]
  },
  {
   "cell_type": "code",
   "execution_count": 27,
   "id": "70fb32a4",
   "metadata": {},
   "outputs": [
    {
     "data": {
      "text/plain": [
       "Positive    1154667\n",
       "Negative     114561\n",
       "Neutral       18613\n",
       "Name: Sentiment_Analysis, dtype: int64"
      ]
     },
     "execution_count": 27,
     "metadata": {},
     "output_type": "execute_result"
    }
   ],
   "source": [
    "grocery_review_df1['Sentiment_Analysis'] = grocery_review_df1['Polarity'].apply(sentiment)\n",
    "grocery_review_df1['Sentiment_Analysis'].value_counts()"
   ]
  },
  {
   "cell_type": "code",
   "execution_count": 28,
   "id": "900e857e",
   "metadata": {
    "scrolled": false
   },
   "outputs": [
    {
     "data": {
      "text/plain": [
       "[(\"['five', 'stars', 'love']\", 67),\n",
       " (\"['five', 'stars', 'good']\", 49),\n",
       " (\"['five', 'stars', 'great']\", 31),\n",
       " (\"['five', 'stars', 'delicious']\", 25),\n",
       " (\"['five', 'stars', 'best']\", 18),\n",
       " (\"['three', 'stars', 'ok']\", 18),\n",
       " (\"['five', 'stars', 'great', 'product']\", 16),\n",
       " (\"['five', 'stars', 'yummy']\", 16),\n",
       " (\"['five', 'stars', 'loved']\", 15),\n",
       " (\"['five', 'stars', 'love', 'coffee']\", 15),\n",
       " (\"['five', 'stars', 'awesome']\", 14),\n",
       " (\"['five', 'stars', 'love', 'stuff']\", 12),\n",
       " (\"['five', 'stars', 'excellent']\", 12),\n",
       " (\"['five', 'stars', 'great', 'coffee']\", 12),\n",
       " (\"['five', 'stars', 'favorite']\", 12),\n",
       " (\"['five', 'stars', 'love', 'love', 'love']\", 12),\n",
       " (\"['five', 'stars', 'tasty']\", 11),\n",
       " (\"['five', 'stars', 'good', 'stuff']\", 10),\n",
       " (\"['five', 'stars', 'like']\", 10),\n",
       " (\"['five', 'stars', 'good', 'coffee']\", 10),\n",
       " (\"['five', 'stars', 'perfect']\", 9),\n",
       " (\"['five', 'stars']\", 9),\n",
       " (\"['five', 'stars', 'taste', 'good']\", 9),\n",
       " (\"['five', 'stars', 'best', 'ever']\", 9),\n",
       " (\"['five', 'stars', 'good', 'product']\", 8),\n",
       " (\"['four', 'stars', 'good']\", 8),\n",
       " (\"['five', 'stars', 'yum']\", 8),\n",
       " (\"['five', 'stars', 'love', 'tea']\", 8),\n",
       " (\"['five', 'stars', 'best', 'coffee', 'ever']\", 8),\n",
       " (\"['five', 'stars', 'expected']\", 8),\n",
       " (\"['five', 'stars', 'wonderful']\", 7),\n",
       " (\"['five', 'stars', 'great', 'stuff']\", 7),\n",
       " (\"['five', 'stars', 'fresh']\", 7),\n",
       " (\"['five', 'stars', 'good', 'deal']\", 7),\n",
       " (\"['five', 'stars', 'great', 'tea']\", 7),\n",
       " (\"['five', 'stars', 'kids', 'love']\", 7),\n",
       " (\"['five', 'stars', 'good', 'quality']\", 7),\n",
       " (\"['five', 'stars', 'great', 'love']\", 7),\n",
       " (\"['three', 'stars', 'okay']\", 6),\n",
       " (\"['five', 'stars', 'great', 'product', 'great', 'price']\", 6),\n",
       " (\"['five', 'stars', 'excellent', 'product']\", 6),\n",
       " (\"['five', 'stars', 'nice']\", 6),\n",
       " (\"['five', 'stars', 'love', 'flavor']\", 6),\n",
       " (\"['five', 'stars', 'favorite', 'coffee']\", 6),\n",
       " (\"['five', 'stars', 'delish']\", 6),\n",
       " (\"['five', 'stars', 'great', 'coffee', 'great', 'price']\", 6),\n",
       " (\"['five', 'stars', 'good', 'price']\", 5),\n",
       " (\"['five', 'stars', 'great', 'price']\", 5),\n",
       " (\"['three', 'stars', 'k']\", 5),\n",
       " (\"['five', 'stars', 'love', 'product']\", 5),\n",
       " (\"['five', 'stars', 'best', 'coffee']\", 5),\n",
       " (\"['five', 'stars', 'great', 'taste']\", 5),\n",
       " (\"['five', 'stars', 'great', 'value']\", 5),\n",
       " (\"['five', 'stars', 'amazing']\", 5),\n",
       " (\"['five', 'stars', 'good', 'buy']\", 5),\n",
       " (\"['five', 'stars', 'wanted']\", 5),\n",
       " (\"['five', 'stars', 'tastes', 'great']\", 5),\n",
       " (\"['five', 'stars', 'always', 'great']\", 5),\n",
       " (\"['five', 'stars', 'good', 'taste']\", 5),\n",
       " (\"['five', 'stars', 'thank']\", 5),\n",
       " (\"['five', 'stars', 'favorite', 'flavor']\", 5),\n",
       " (\"['five', 'stars', 'husband', 'loves']\", 5),\n",
       " (\"['five', 'stars', 'one', 'favorites']\", 5),\n",
       " (\"['four', 'stars', 'tasty']\", 5),\n",
       " (\"['five', 'stars', 'absolutely', 'delicious']\", 4),\n",
       " (\"['five', 'stars', 'good', 'tea']\", 4),\n",
       " (\"['five', 'stars', 'great', 'quality']\", 4),\n",
       " (\"['four', 'stars', 'expected']\", 4),\n",
       " (\"['five', 'stars', 'great', 'gift']\", 4),\n",
       " (\"['natural', 'alternative', 'coffee', 'used', 'drink', 'cups', 'coffee', 'gave', 'diarrhea', 'job', 'nuclear', 'power', 'plant', 'night', 'demands', 'sit', 'long', 'periods', 'take', 'bathroom', 'breaks', 'frequently', 'looked', 'natural', 'alternative', 'coffee', 'pero', 'found', 'said', 'make', 'cups', 'taste', 'isnt', 'exhilarating', 'okay', 'cold', 'days', 'cookies', 'burnt', 'toast', 'use', 'milk', 'water', 'ill', 'vomit', 'use', 'water', 'healthy', 'basic', 'drink', 'suffer', 'stomach', 'cramps', 'tied', 'intestines', 'cups', 'day', 'along', 'carton', 'french', 'cigarettes']\",\n",
       "  4),\n",
       " (\"['five', 'stars', 'great', 'tasting']\", 4),\n",
       " (\"['five', 'stars', 'great', 'product', 'fast', 'delivery']\", 4),\n",
       " (\"['five', 'stars', 'great', 'candy']\", 4),\n",
       " (\"['five', 'stars', 'good', 'flavor']\", 4),\n",
       " (\"['five', 'stars', 'works']\", 4),\n",
       " (\"['acquired', 'taste', 'acquired', 'taste', 'give', 'try', 'week', 'two', 'perhaps', 'substituting', 'package', 'peanuts', 'calories', 'peanuts', 'may', 'pleasantly', 'surprised', 'satisfy', 'appetite', 'especially', 'late', 'afternoon', 'hour', 'two', 'dinner', 'found', 'enjoying', 'hour', 'half', 'dinner', 'satisfied', 'smaller', 'dinner', 'serving', 'chew', 'slowing', 'one', 'two', 'time', 'may', 'seem', 'bit', 'dry', 'side', 'order', 'favors', 'round', 'variety', 'found', 'bars', 'bit', 'overbaked', 'centers', 'rounds', 'seem', 'fine', 'certainly', 'eat', 'fresh', 'cheese', 'enjoy', 'benefits', 'packages', 'right', 'size', 'person', 'go', 'dont', 'need', 'refrigeration', 'give', 'try', 'perhaps', 'youll', 'acquire', 'taste']\",\n",
       "  4),\n",
       " ('[]', 4),\n",
       " (\"['five', 'stars', 'always', 'good']\", 4),\n",
       " (\"['one', 'star', 'awful']\", 4),\n",
       " (\"['five', 'stars', 'good', 'fresh']\", 4),\n",
       " (\"['five', 'stars', 'love', 'em']\", 4),\n",
       " (\"['five', 'stars', 'best', 'tea', 'ever']\", 4),\n",
       " (\"['five', 'stars', 'favorite', 'tea']\", 4),\n",
       " (\"['three', 'stars']\", 4),\n",
       " (\"['one', 'star', 'stale']\", 4),\n",
       " (\"['one', 'star', 'good']\", 4),\n",
       " (\"['five', 'stars', 'cute']\", 4),\n",
       " (\"['five', 'stars', 'great', 'product', 'love']\", 4),\n",
       " (\"['five', 'stars', 'great', 'thanks']\", 4),\n",
       " (\"['four', 'stars', 'like']\", 4),\n",
       " (\"['warning', 'warning', 'alcohol', 'sugars', 'buyer', 'beware', 'please', 'sweetener', 'everybody', 'maltitol', 'alcohol', 'sugar', 'undigestible', 'body', 'know', 'short', 'time', 'consuming', 'one', 'unsuspecting', 'many', 'digest', 'extreme', 'intestinal', 'bloating', 'cramping', 'massive', 'amounts', 'gas', 'person', 'experience', 'nausea', 'diarrhea', 'headaches', 'also', 'experienced', 'learned', 'lesson', 'hard', 'way', 'years', 'ago', 'fell', 'love', 'sugarfree', 'chocolates', 'suzanne', 'sommers', 'used', 'sell', 'thought', 'id', 'found', 'sugarfree', 'chocolate', 'nirvana', 'first', 'taste', 'bliss', 'short', 'lived', 'terrible', 'side', 'effects', 'maltitol', 'kicked', 'discomfort', 'unlike', 'anything', 'ever', 'felt', 'blew', 'like', 'balloon', 'painful', 'abdominal', 'cramping', 'symptoms', 'passed', 'unpleasant', 'though', 'hard', 'believe', 'low', 'calorie', 'sweetener', 'could', 'culprit', 'symptoms', 'gone', 'stopped', 'eating', 'chocolate', 'hunch', 'something', 'maltitol', 'unfortunately', 'confirmed', 'year', 'later', 'purchased', 'delicious', 'sugarfree', 'popcorn', 'local', 'market', 'taste', 'amazing', 'looking', 'label', 'wondering', 'could', 'possibly', 'make', 'yummy', 'new', 'sugarfree', 'treat', 'taste', 'good', 'heart', 'sank', 'followed', 'little', 'asterisk', 'next', 'sugarfree', 'sweetener', 'bottom', 'label', 'read', 'maltitol', 'tiny', 'little', 'letters', 'thank', 'goodness', 'id', 'eaten', 'little', 'still', 'ended', 'sideeffects', 'much', 'shorter', 'duration', 'people', 'use', 'maltitol', 'hearts', 'content', 'others', 'like', 'bad', 'reaction', 'case', 'youre', 'like', 'maltitol']\",\n",
       "  3),\n",
       " (\"['magic', 'potion', 'south', 'america', 'mate', 'actually', 'tea', 'tealike', 'beverage', 'originating', 'argentina', 'uruguay', 'primarily', 'consumed', 'countries', 'well', 'paraguay', 'southern', 'brazil', 'brewed', 'dried', 'leaves', 'stemlets', 'perennial', 'yerba', 'mate', 'tree', 'name', 'derives', 'quichua', 'word', 'mati', 'designating', 'gourd', 'traditionally', 'served', 'average', 'tons', 'mate', 'produced', 'year', 'consistency', 'similar', 'green', 'tea', 'mate', 'distinctive', 'full', 'bittersweet', 'flavor', 'note', 'alfalfa', 'resembling', 'tea', 'milder', 'volatile', 'chemical', 'compounds', 'contained', 'yerba', 'mate', 'also', 'contained', 'tea', 'knowing', 'manifold', 'health', 'benefits', 'among', 'plants', 'ingredients', 'alkaloids', 'xanthine', 'theophylline', 'theobromine', 'well', 'vitamins', 'c', 'e', 'several', 'b', 'vitamins', 'numerous', 'minerals', 'south', 'american', 'guarani', 'indians', 'traditionally', 'used', 'plant', 'medicinal', 'purposes', 'inter', 'alia', 'stimulant', 'central', 'nervous', 'system', 'promote', 'mental', 'physical', 'cardiovascular', 'activity', 'enhance', 'resistance', 'fatigue', 'reduce', 'fever', 'mitigate', 'thirst', 'hunger', 'decrease', 'blood', 'pressure', 'diuretic', 'laxative', 'purgative', 'sudorific', 'antirheumatic', 'legend', 'knowledge', 'infusions', 'powers', 'first', 'imparted', 'young', 'guarani', 'woman', 'father', 'mysterious', 'shaman', 'rewarding', 'womans', 'faithfulness', 'staying', 'exhausted', 'father', 'tribe', 'continued', 'search', 'arable', 'land', 'recent', 'years', 'mate', 'become', 'cultural', 'phenomenon', 'throughout', 'large', 'parts', 'south', 'america', 'gaining', 'increased', 'popularity', 'northern', 'america', 'europe', 'well', 'south', 'america', 'sharing', 'mate', 'container', 'straw', 'bombilla', 'symbol', 'closeness', 'friendship', 'family', 'social', 'contexts']\",\n",
       "  3),\n",
       " (\"['love', 'good']\", 3),\n",
       " (\"['five', 'stars', 'works', 'great']\", 3),\n",
       " (\"['five', 'stars', 'fast', 'great']\", 3),\n",
       " (\"['evil', 'disgusting', 'cruel', 'buy', 'please', 'poor', 'animals', 'tortured', 'whole', 'life', 'force', 'fed', 'tubes', 'sake', 'good', 'meal', 'please', 'heart', 'contribute', 'industry', 'barbaric', 'learn', 'sign', 'petition']\",\n",
       "  3),\n",
       " (\"['love', 'best']\", 3),\n",
       " (\"['four', 'stars', 'good', 'stuff']\", 3),\n",
       " (\"['five', 'stars', 'pretty', 'good']\", 3),\n",
       " (\"['five', 'stars', 'best', 'gum', 'ever']\", 3)]"
      ]
     },
     "execution_count": 28,
     "metadata": {},
     "output_type": "execute_result"
    }
   ],
   "source": [
    "from nltk import FreqDist\n",
    "\n",
    "freq_dist_pos = FreqDist(grocery_review_df1['tokenized'])\n",
    "freq_dist_pos.most_common(100)"
   ]
  },
  {
   "cell_type": "code",
   "execution_count": 29,
   "id": "cdd0d96c",
   "metadata": {
    "id": "cdd0d96c"
   },
   "outputs": [],
   "source": [
    "# Convert time object to datetime and create a new column named 'time'\n",
    "grocery_review_df1['Time'] = grocery_review_df1.reviewTime.str.replace(',', \"\")\n",
    "grocery_review_df1['Time'] = pd.to_datetime(grocery_review_df1['Time'], format = '%m %d %Y')\n",
    "\n",
    "# Drop redundant 'reviewTime' column\n",
    "grocery_review_df1 = grocery_review_df1.drop('reviewTime', axis = 1)"
   ]
  },
  {
   "cell_type": "markdown",
   "id": "9071e9f0",
   "metadata": {
    "id": "2efeb75c"
   },
   "source": [
    "### Testing model on sentiments"
   ]
  },
  {
   "cell_type": "code",
   "execution_count": 30,
   "id": "d8b4007e",
   "metadata": {
    "id": "d8b4007e"
   },
   "outputs": [],
   "source": [
    "# #split data-set to train and test\n",
    "from sklearn.model_selection import train_test_split\n",
    "\n",
    "X = grocery_review_df1['review_text']\n",
    "Y = grocery_review_df1['Sentiment_Analysis']\n",
    "\n",
    "X_train, X_test, Y_train, Y_test = train_test_split(X, Y, test_size = 0.2, random_state=42)"
   ]
  },
  {
   "cell_type": "code",
   "execution_count": 31,
   "id": "4178be4e",
   "metadata": {
    "id": "4178be4e"
   },
   "outputs": [],
   "source": [
    "from sklearn.feature_extraction.text import TfidfVectorizer\n",
    "vectorizer=TfidfVectorizer(sublinear_tf=True, #apply sublinear tf scaling ,i.e replace tf with 1+log(tf)\n",
    "                           max_df=0.5,      # ignore terms that appear in morethan that fraction of docs\n",
    "                           min_df=1,\n",
    "                           stop_words=stopwords.words(\"english\"),\n",
    "                           use_idf=True,   #enable inverse-documents-frequency reweighting\n",
    "                           smooth_idf=True  #smooth idf weights by adding one to document frequencies\n",
    "                          )"
   ]
  },
  {
   "cell_type": "code",
   "execution_count": 32,
   "id": "2ad69bb6",
   "metadata": {
    "id": "2ad69bb6"
   },
   "outputs": [],
   "source": [
    "X_train_vect = vectorizer.fit_transform(X_train)\n",
    "X_test_vect = vectorizer.transform(X_test)"
   ]
  },
  {
   "cell_type": "code",
   "execution_count": 33,
   "id": "3be4ecdf",
   "metadata": {
    "id": "3be4ecdf"
   },
   "outputs": [],
   "source": [
    "from sklearn.metrics import accuracy_score, confusion_matrix, classification_report,ConfusionMatrixDisplay"
   ]
  },
  {
   "cell_type": "code",
   "execution_count": 34,
   "id": "67028a0e",
   "metadata": {
    "id": "67028a0e"
   },
   "outputs": [],
   "source": [
    "import seaborn as sns\n",
    "import matplotlib.pyplot as plt"
   ]
  },
  {
   "cell_type": "code",
   "execution_count": 35,
   "id": "4702c507",
   "metadata": {
    "id": "4702c507"
   },
   "outputs": [],
   "source": [
    "from sklearn.linear_model import LogisticRegression"
   ]
  },
  {
   "cell_type": "code",
   "execution_count": 36,
   "id": "2023fae8",
   "metadata": {
    "id": "2023fae8"
   },
   "outputs": [
    {
     "data": {
      "text/plain": [
       "LogisticRegression()"
      ]
     },
     "execution_count": 36,
     "metadata": {},
     "output_type": "execute_result"
    }
   ],
   "source": [
    "lr = LogisticRegression()\n",
    "lr.fit(X_train_vect, Y_train)"
   ]
  },
  {
   "cell_type": "code",
   "execution_count": 37,
   "id": "459501dc",
   "metadata": {
    "id": "459501dc"
   },
   "outputs": [
    {
     "data": {
      "text/html": [
       "<style type=\"text/css\">\n",
       "#T_c38dd_row0_col0 {\n",
       "  background-color: #dcc0dc;\n",
       "  color: #000000;\n",
       "}\n",
       "#T_c38dd_row0_col1 {\n",
       "  background-color: #a752a7;\n",
       "  color: #f1f1f1;\n",
       "}\n",
       "#T_c38dd_row0_col2 {\n",
       "  background-color: #aa57aa;\n",
       "  color: #f1f1f1;\n",
       "}\n",
       "#T_c38dd_row0_col3 {\n",
       "  background-color: #e9dbe9;\n",
       "  color: #000000;\n",
       "}\n",
       "#T_c38dd_row1_col0, #T_c38dd_row1_col1, #T_c38dd_row1_col2, #T_c38dd_row3_col3 {\n",
       "  background-color: #f3f0f3;\n",
       "  color: #000000;\n",
       "}\n",
       "#T_c38dd_row1_col3 {\n",
       "  background-color: #f1edf1;\n",
       "  color: #000000;\n",
       "}\n",
       "#T_c38dd_row2_col0, #T_c38dd_row2_col1, #T_c38dd_row2_col2, #T_c38dd_row3_col0, #T_c38dd_row4_col3, #T_c38dd_row5_col0, #T_c38dd_row5_col3 {\n",
       "  background-color: #800080;\n",
       "  color: #f1f1f1;\n",
       "}\n",
       "#T_c38dd_row2_col3 {\n",
       "  background-color: #8c188c;\n",
       "  color: #f1f1f1;\n",
       "}\n",
       "#T_c38dd_row3_col1, #T_c38dd_row5_col1 {\n",
       "  background-color: #860d86;\n",
       "  color: #f1f1f1;\n",
       "}\n",
       "#T_c38dd_row3_col2, #T_c38dd_row5_col2 {\n",
       "  background-color: #850a85;\n",
       "  color: #f1f1f1;\n",
       "}\n",
       "#T_c38dd_row4_col0 {\n",
       "  background-color: #c590c5;\n",
       "  color: #f1f1f1;\n",
       "}\n",
       "#T_c38dd_row4_col1 {\n",
       "  background-color: #b56eb5;\n",
       "  color: #f1f1f1;\n",
       "}\n",
       "#T_c38dd_row4_col2 {\n",
       "  background-color: #b46db4;\n",
       "  color: #f1f1f1;\n",
       "}\n",
       "</style>\n",
       "<table id=\"T_c38dd\">\n",
       "  <thead>\n",
       "    <tr>\n",
       "      <th class=\"blank level0\" >&nbsp;</th>\n",
       "      <th id=\"T_c38dd_level0_col0\" class=\"col_heading level0 col0\" >precision</th>\n",
       "      <th id=\"T_c38dd_level0_col1\" class=\"col_heading level0 col1\" >recall</th>\n",
       "      <th id=\"T_c38dd_level0_col2\" class=\"col_heading level0 col2\" >f1-score</th>\n",
       "      <th id=\"T_c38dd_level0_col3\" class=\"col_heading level0 col3\" >support</th>\n",
       "    </tr>\n",
       "  </thead>\n",
       "  <tbody>\n",
       "    <tr>\n",
       "      <th id=\"T_c38dd_level0_row0\" class=\"row_heading level0 row0\" >Negative</th>\n",
       "      <td id=\"T_c38dd_row0_col0\" class=\"data row0 col0\" >0.940000</td>\n",
       "      <td id=\"T_c38dd_row0_col1\" class=\"data row0 col1\" >0.880000</td>\n",
       "      <td id=\"T_c38dd_row0_col2\" class=\"data row0 col2\" >0.910000</td>\n",
       "      <td id=\"T_c38dd_row0_col3\" class=\"data row0 col3\" >22971.000000</td>\n",
       "    </tr>\n",
       "    <tr>\n",
       "      <th id=\"T_c38dd_level0_row1\" class=\"row_heading level0 row1\" >Neutral</th>\n",
       "      <td id=\"T_c38dd_row1_col0\" class=\"data row1 col0\" >0.930000</td>\n",
       "      <td id=\"T_c38dd_row1_col1\" class=\"data row1 col1\" >0.650000</td>\n",
       "      <td id=\"T_c38dd_row1_col2\" class=\"data row1 col2\" >0.770000</td>\n",
       "      <td id=\"T_c38dd_row1_col3\" class=\"data row1 col3\" >3679.000000</td>\n",
       "    </tr>\n",
       "    <tr>\n",
       "      <th id=\"T_c38dd_level0_row2\" class=\"row_heading level0 row2\" >Positive</th>\n",
       "      <td id=\"T_c38dd_row2_col0\" class=\"data row2 col0\" >0.980000</td>\n",
       "      <td id=\"T_c38dd_row2_col1\" class=\"data row2 col1\" >1.000000</td>\n",
       "      <td id=\"T_c38dd_row2_col2\" class=\"data row2 col2\" >0.990000</td>\n",
       "      <td id=\"T_c38dd_row2_col3\" class=\"data row2 col3\" >230919.000000</td>\n",
       "    </tr>\n",
       "    <tr>\n",
       "      <th id=\"T_c38dd_level0_row3\" class=\"row_heading level0 row3\" >accuracy</th>\n",
       "      <td id=\"T_c38dd_row3_col0\" class=\"data row3 col0\" >0.980000</td>\n",
       "      <td id=\"T_c38dd_row3_col1\" class=\"data row3 col1\" >0.980000</td>\n",
       "      <td id=\"T_c38dd_row3_col2\" class=\"data row3 col2\" >0.980000</td>\n",
       "      <td id=\"T_c38dd_row3_col3\" class=\"data row3 col3\" >0.980000</td>\n",
       "    </tr>\n",
       "    <tr>\n",
       "      <th id=\"T_c38dd_level0_row4\" class=\"row_heading level0 row4\" >macro avg</th>\n",
       "      <td id=\"T_c38dd_row4_col0\" class=\"data row4 col0\" >0.950000</td>\n",
       "      <td id=\"T_c38dd_row4_col1\" class=\"data row4 col1\" >0.840000</td>\n",
       "      <td id=\"T_c38dd_row4_col2\" class=\"data row4 col2\" >0.890000</td>\n",
       "      <td id=\"T_c38dd_row4_col3\" class=\"data row4 col3\" >257569.000000</td>\n",
       "    </tr>\n",
       "    <tr>\n",
       "      <th id=\"T_c38dd_level0_row5\" class=\"row_heading level0 row5\" >weighted avg</th>\n",
       "      <td id=\"T_c38dd_row5_col0\" class=\"data row5 col0\" >0.980000</td>\n",
       "      <td id=\"T_c38dd_row5_col1\" class=\"data row5 col1\" >0.980000</td>\n",
       "      <td id=\"T_c38dd_row5_col2\" class=\"data row5 col2\" >0.980000</td>\n",
       "      <td id=\"T_c38dd_row5_col3\" class=\"data row5 col3\" >257569.000000</td>\n",
       "    </tr>\n",
       "  </tbody>\n",
       "</table>\n"
      ],
      "text/plain": [
       "<pandas.io.formats.style.Styler at 0x2841639ea60>"
      ]
     },
     "execution_count": 37,
     "metadata": {},
     "output_type": "execute_result"
    }
   ],
   "source": [
    "# Predict using training and testing data and display the accuracy, f-1 score, precision for Positive and Negative Sentiment Classifiers \n",
    "lr_predictions = lr.predict(X_test_vect)\n",
    "report = classification_report(Y_test,lr_predictions, output_dict=True)\n",
    "data_report = pd.DataFrame(report).transpose().round(2)\n",
    "cm = sns.light_palette(\"purple\", as_cmap=True)\n",
    "data_report.style.background_gradient(cmap=cm)"
   ]
  },
  {
   "cell_type": "code",
   "execution_count": 38,
   "id": "769453e5",
   "metadata": {
    "id": "769453e5"
   },
   "outputs": [
    {
     "data": {
      "image/png": "[encoded data removed]",
      "text/plain": [
       "<Figure size 432x288 with 2 Axes>"
      ]
     },
     "metadata": {
      "needs_background": "light"
     },
     "output_type": "display_data"
    }
   ],
   "source": [
    "# confusion matrix\n",
    "lr_predictions=lr.predict(X_test_vect)\n",
    "ax= plt.subplot()\n",
    "cm=confusion_matrix(Y_test,lr_predictions)\n",
    "sns.heatmap(cm, annot=True, fmt='g', ax=ax,cmap='Reds');  \n",
    "ax.set_xlabel('Predicted labels');ax.set_ylabel('True labels');\n",
    "ax.set_title('Confusion Matrix');\n",
    "ax.xaxis.set_ticklabels(['neutral','negative', 'positive']); ax.yaxis.set_ticklabels(['neutral','negative', 'positive']);"
   ]
  },
  {
   "cell_type": "markdown",
   "id": "7ebaa6d8",
   "metadata": {
    "id": "7ebaa6d8"
   },
   "source": [
    "#### Positive feedback has a higher precision and F1 score while running through a logistic regression model; which indicates that the grocery products have a higher segment of satisfied customers.\n"
   ]
  },
  {
   "cell_type": "code",
   "execution_count": 39,
   "id": "348bb77b",
   "metadata": {
    "id": "348bb77b"
   },
   "outputs": [
    {
     "name": "stdout",
     "output_type": "stream",
     "text": [
      "['Negative']\n"
     ]
    }
   ],
   "source": [
    "# testing the model with sample 'Negative' review\n",
    "demo_review = np.array(['very disappointed'])\n",
    "demo_review_X_test = vectorizer.transform(demo_review)\n",
    "print(lr.predict(demo_review_X_test))\n",
    "\n",
    "# expected output = Negative\n",
    "# actual output = Negative"
   ]
  },
  {
   "cell_type": "markdown",
   "id": "c65eafb7",
   "metadata": {
    "id": "c65eafb7"
   },
   "source": [
    "#### Model tests correct on negative feedback. "
   ]
  },
  {
   "cell_type": "code",
   "execution_count": 40,
   "id": "acb19e3b",
   "metadata": {
    "id": "acb19e3b"
   },
   "outputs": [
    {
     "name": "stdout",
     "output_type": "stream",
     "text": [
      "['Positive']\n"
     ]
    }
   ],
   "source": [
    "# testing the model with sample 'Positive' review\n",
    "demo_review_2 = np.array(['best vanilla ive ever had'])\n",
    "demo_review_X_test_2 = vectorizer.transform(demo_review_2)\n",
    "print(lr.predict(demo_review_X_test_2))\n",
    "\n",
    "# expected output = Positive\n",
    "# actual output = Positive"
   ]
  },
  {
   "cell_type": "markdown",
   "id": "d4243fad",
   "metadata": {
    "id": "d4243fad"
   },
   "source": [
    "#### Model tests correct on positive feedback."
   ]
  },
  {
   "cell_type": "code",
   "execution_count": 41,
   "id": "2a05d992",
   "metadata": {},
   "outputs": [
    {
     "name": "stdout",
     "output_type": "stream",
     "text": [
      "['Neutral']\n"
     ]
    }
   ],
   "source": [
    "# testing the model with sample 'Neutral' review\n",
    "demo_review_3 = np.array(['not a fan'])\n",
    "demo_review_X_test_3 = vectorizer.transform(demo_review_3)\n",
    "print(lr.predict(demo_review_X_test_3))\n",
    "\n",
    "# expected output = Neutral\n",
    "# actual output = Neutral"
   ]
  },
  {
   "cell_type": "markdown",
   "id": "019225d3",
   "metadata": {},
   "source": [
    "#### Model tests correct on neutral feedback."
   ]
  },
  {
   "cell_type": "code",
   "execution_count": 42,
   "id": "c15be9cf",
   "metadata": {
    "id": "c15be9cf"
   },
   "outputs": [
    {
     "name": "stdout",
     "output_type": "stream",
     "text": [
      "Number of reviews:  1287841\n",
      "Number of unique reviewes:  1286621\n",
      "Number of unique products:  165761\n"
     ]
    }
   ],
   "source": [
    "### Total reviews\n",
    "total = len(grocery_review_df1['review_text'])\n",
    "print (\"Number of reviews: \",total)\n",
    "\n",
    "### How many unique reviewes\n",
    "print (\"Number of unique reviewes: \",len(grocery_review_df1.review_text.unique()))\n",
    "\n",
    "### How many unique products?\n",
    "print (\"Number of unique products: \", len(grocery_review_df1.asin.unique()))"
   ]
  },
  {
   "cell_type": "markdown",
   "id": "6ec0cec0",
   "metadata": {
    "id": "6ec0cec0"
   },
   "source": [
    "## Sentiment Analysis on reviews given by customers:\n",
    "sentiment of customers are segmented into positive negative neutral on the basis of reviews\n",
    "###    It can be observed that Amazon has higher positive feedback towards its grocery and gourmet food section.\n",
    "###    Customer can be segmented here after on the basis of the sentiment.\n"
   ]
  },
  {
   "cell_type": "markdown",
   "id": "f98054fb",
   "metadata": {
    "id": "f98054fb"
   },
   "source": [
    "## =================== PreProcessing on metadata ==========================="
   ]
  },
  {
   "cell_type": "code",
   "execution_count": 114,
   "id": "f6de9226",
   "metadata": {
    "id": "f6de9226"
   },
   "outputs": [
    {
     "data": {
      "text/html": [
       "<div>\n",
       "<style scoped>\n",
       "    .dataframe tbody tr th:only-of-type {\n",
       "        vertical-align: middle;\n",
       "    }\n",
       "\n",
       "    .dataframe tbody tr th {\n",
       "        vertical-align: top;\n",
       "    }\n",
       "\n",
       "    .dataframe thead th {\n",
       "        text-align: right;\n",
       "    }\n",
       "</style>\n",
       "<table border=\"1\" class=\"dataframe\">\n",
       "  <thead>\n",
       "    <tr style=\"text-align: right;\">\n",
       "      <th></th>\n",
       "      <th>asin</th>\n",
       "      <th>description</th>\n",
       "      <th>title</th>\n",
       "      <th>imUrl</th>\n",
       "      <th>related</th>\n",
       "      <th>salesRank</th>\n",
       "      <th>categories</th>\n",
       "      <th>price</th>\n",
       "      <th>brand</th>\n",
       "    </tr>\n",
       "  </thead>\n",
       "  <tbody>\n",
       "    <tr>\n",
       "      <th>0</th>\n",
       "      <td>0657745316</td>\n",
       "      <td>This is real vanilla extract made with only 3 ...</td>\n",
       "      <td>100 Percent All Natural Vanilla Extract</td>\n",
       "      <td>http://ecx.images-amazon.com/images/I/41gFi5h0...</td>\n",
       "      <td>{'also_viewed': ['B001GE8N4Y']}</td>\n",
       "      <td>{'Grocery &amp; Gourmet Food': 374004}</td>\n",
       "      <td>[[Grocery &amp; Gourmet Food]]</td>\n",
       "      <td>NaN</td>\n",
       "      <td>NaN</td>\n",
       "    </tr>\n",
       "    <tr>\n",
       "      <th>1</th>\n",
       "      <td>0700026444</td>\n",
       "      <td>Silverpot Tea, Pure Darjeeling, is an exquisit...</td>\n",
       "      <td>Pure Darjeeling Tea: Loose Leaf</td>\n",
       "      <td>http://ecx.images-amazon.com/images/I/51hs8sox...</td>\n",
       "      <td>NaN</td>\n",
       "      <td>{'Grocery &amp; Gourmet Food': 620307}</td>\n",
       "      <td>[[Grocery &amp; Gourmet Food]]</td>\n",
       "      <td>NaN</td>\n",
       "      <td>NaN</td>\n",
       "    </tr>\n",
       "    <tr>\n",
       "      <th>2</th>\n",
       "      <td>1403796890</td>\n",
       "      <td>Must have for any WWE Fan\\n \\n \\n \\nFeaturing ...</td>\n",
       "      <td>WWE Kids Todler Velvet Slippers featuring John...</td>\n",
       "      <td>http://ecx.images-amazon.com/images/I/518SEST5...</td>\n",
       "      <td>NaN</td>\n",
       "      <td>NaN</td>\n",
       "      <td>[[Grocery &amp; Gourmet Food]]</td>\n",
       "      <td>3.99</td>\n",
       "      <td>NaN</td>\n",
       "    </tr>\n",
       "    <tr>\n",
       "      <th>3</th>\n",
       "      <td>141278509X</td>\n",
       "      <td>Infused with Vitamins and Electrolytes Good So...</td>\n",
       "      <td>Archer Farms Strawberry Dragonfruit Drink Mix ...</td>\n",
       "      <td>http://ecx.images-amazon.com/images/I/51CFQIis...</td>\n",
       "      <td>{'also_viewed': ['B0051IETTY']}</td>\n",
       "      <td>{'Grocery &amp; Gourmet Food': 620322}</td>\n",
       "      <td>[[Grocery &amp; Gourmet Food]]</td>\n",
       "      <td>NaN</td>\n",
       "      <td>NaN</td>\n",
       "    </tr>\n",
       "    <tr>\n",
       "      <th>4</th>\n",
       "      <td>1453060375</td>\n",
       "      <td>MiO Energy is your portable energy source givi...</td>\n",
       "      <td>Mio Energy Liquid Water Enhancer Black Cherry ...</td>\n",
       "      <td>http://ecx.images-amazon.com/images/I/51EUsMcn...</td>\n",
       "      <td>{'also_viewed': ['B006MSEOJ2', 'B005VOOQLO', '...</td>\n",
       "      <td>{'Grocery &amp; Gourmet Food': 268754}</td>\n",
       "      <td>[[Grocery &amp; Gourmet Food]]</td>\n",
       "      <td>11.99</td>\n",
       "      <td>Mio</td>\n",
       "    </tr>\n",
       "  </tbody>\n",
       "</table>\n",
       "</div>"
      ],
      "text/plain": [
       "         asin                                        description  \\\n",
       "0  0657745316  This is real vanilla extract made with only 3 ...   \n",
       "1  0700026444  Silverpot Tea, Pure Darjeeling, is an exquisit...   \n",
       "2  1403796890  Must have for any WWE Fan\\n \\n \\n \\nFeaturing ...   \n",
       "3  141278509X  Infused with Vitamins and Electrolytes Good So...   \n",
       "4  1453060375  MiO Energy is your portable energy source givi...   \n",
       "\n",
       "                                               title  \\\n",
       "0            100 Percent All Natural Vanilla Extract   \n",
       "1                    Pure Darjeeling Tea: Loose Leaf   \n",
       "2  WWE Kids Todler Velvet Slippers featuring John...   \n",
       "3  Archer Farms Strawberry Dragonfruit Drink Mix ...   \n",
       "4  Mio Energy Liquid Water Enhancer Black Cherry ...   \n",
       "\n",
       "                                               imUrl  \\\n",
       "0  http://ecx.images-amazon.com/images/I/41gFi5h0...   \n",
       "1  http://ecx.images-amazon.com/images/I/51hs8sox...   \n",
       "2  http://ecx.images-amazon.com/images/I/518SEST5...   \n",
       "3  http://ecx.images-amazon.com/images/I/51CFQIis...   \n",
       "4  http://ecx.images-amazon.com/images/I/51EUsMcn...   \n",
       "\n",
       "                                             related  \\\n",
       "0                    {'also_viewed': ['B001GE8N4Y']}   \n",
       "1                                                NaN   \n",
       "2                                                NaN   \n",
       "3                    {'also_viewed': ['B0051IETTY']}   \n",
       "4  {'also_viewed': ['B006MSEOJ2', 'B005VOOQLO', '...   \n",
       "\n",
       "                            salesRank                  categories  price brand  \n",
       "0  {'Grocery & Gourmet Food': 374004}  [[Grocery & Gourmet Food]]    NaN   NaN  \n",
       "1  {'Grocery & Gourmet Food': 620307}  [[Grocery & Gourmet Food]]    NaN   NaN  \n",
       "2                                 NaN  [[Grocery & Gourmet Food]]   3.99   NaN  \n",
       "3  {'Grocery & Gourmet Food': 620322}  [[Grocery & Gourmet Food]]    NaN   NaN  \n",
       "4  {'Grocery & Gourmet Food': 268754}  [[Grocery & Gourmet Food]]  11.99   Mio  "
      ]
     },
     "execution_count": 114,
     "metadata": {},
     "output_type": "execute_result"
    }
   ],
   "source": [
    "grocery_meta_df = getdf(\"C:/Users/vamsh/OneDrive/Desktop/NIIT/14.Capstone project(Amazon)/meta_Grocery_and_Gourmet_Food.json.gz\")\n",
    "grocery_meta_df.head()"
   ]
  },
  {
   "cell_type": "code",
   "execution_count": 248,
   "id": "1e5c7bb1",
   "metadata": {},
   "outputs": [],
   "source": [
    "grocery_meta_df1 = grocery_meta_df.copy()"
   ]
  },
  {
   "cell_type": "code",
   "execution_count": 249,
   "id": "e402fac4",
   "metadata": {},
   "outputs": [
    {
     "data": {
      "text/plain": [
       "0          True\n",
       "1          True\n",
       "2          True\n",
       "3          True\n",
       "4         False\n",
       "          ...  \n",
       "171755     True\n",
       "171756     True\n",
       "171757     True\n",
       "171758     True\n",
       "171759     True\n",
       "Name: brand, Length: 171760, dtype: bool"
      ]
     },
     "execution_count": 249,
     "metadata": {},
     "output_type": "execute_result"
    }
   ],
   "source": [
    "grocery_meta_df1.brand.isnull()"
   ]
  },
  {
   "cell_type": "code",
   "execution_count": 250,
   "id": "77a7e27f",
   "metadata": {},
   "outputs": [],
   "source": [
    "grocery_meta_df1.loc[grocery_meta_df1.brand.isnull(),'brand'] = grocery_meta_df1.title.str.split().str.get(0)"
   ]
  },
  {
   "cell_type": "code",
   "execution_count": 251,
   "id": "898750d2",
   "metadata": {},
   "outputs": [
    {
     "data": {
      "text/html": [
       "<div>\n",
       "<style scoped>\n",
       "    .dataframe tbody tr th:only-of-type {\n",
       "        vertical-align: middle;\n",
       "    }\n",
       "\n",
       "    .dataframe tbody tr th {\n",
       "        vertical-align: top;\n",
       "    }\n",
       "\n",
       "    .dataframe thead th {\n",
       "        text-align: right;\n",
       "    }\n",
       "</style>\n",
       "<table border=\"1\" class=\"dataframe\">\n",
       "  <thead>\n",
       "    <tr style=\"text-align: right;\">\n",
       "      <th></th>\n",
       "      <th>asin</th>\n",
       "      <th>description</th>\n",
       "      <th>title</th>\n",
       "      <th>imUrl</th>\n",
       "      <th>related</th>\n",
       "      <th>salesRank</th>\n",
       "      <th>categories</th>\n",
       "      <th>price</th>\n",
       "      <th>brand</th>\n",
       "    </tr>\n",
       "  </thead>\n",
       "  <tbody>\n",
       "    <tr>\n",
       "      <th>0</th>\n",
       "      <td>0657745316</td>\n",
       "      <td>This is real vanilla extract made with only 3 ...</td>\n",
       "      <td>100 Percent All Natural Vanilla Extract</td>\n",
       "      <td>http://ecx.images-amazon.com/images/I/41gFi5h0...</td>\n",
       "      <td>{'also_viewed': ['B001GE8N4Y']}</td>\n",
       "      <td>{'Grocery &amp; Gourmet Food': 374004}</td>\n",
       "      <td>[[Grocery &amp; Gourmet Food]]</td>\n",
       "      <td>NaN</td>\n",
       "      <td>100</td>\n",
       "    </tr>\n",
       "    <tr>\n",
       "      <th>1</th>\n",
       "      <td>0700026444</td>\n",
       "      <td>Silverpot Tea, Pure Darjeeling, is an exquisit...</td>\n",
       "      <td>Pure Darjeeling Tea: Loose Leaf</td>\n",
       "      <td>http://ecx.images-amazon.com/images/I/51hs8sox...</td>\n",
       "      <td>NaN</td>\n",
       "      <td>{'Grocery &amp; Gourmet Food': 620307}</td>\n",
       "      <td>[[Grocery &amp; Gourmet Food]]</td>\n",
       "      <td>NaN</td>\n",
       "      <td>Pure</td>\n",
       "    </tr>\n",
       "    <tr>\n",
       "      <th>2</th>\n",
       "      <td>1403796890</td>\n",
       "      <td>Must have for any WWE Fan\\n \\n \\n \\nFeaturing ...</td>\n",
       "      <td>WWE Kids Todler Velvet Slippers featuring John...</td>\n",
       "      <td>http://ecx.images-amazon.com/images/I/518SEST5...</td>\n",
       "      <td>NaN</td>\n",
       "      <td>NaN</td>\n",
       "      <td>[[Grocery &amp; Gourmet Food]]</td>\n",
       "      <td>3.99</td>\n",
       "      <td>WWE</td>\n",
       "    </tr>\n",
       "    <tr>\n",
       "      <th>3</th>\n",
       "      <td>141278509X</td>\n",
       "      <td>Infused with Vitamins and Electrolytes Good So...</td>\n",
       "      <td>Archer Farms Strawberry Dragonfruit Drink Mix ...</td>\n",
       "      <td>http://ecx.images-amazon.com/images/I/51CFQIis...</td>\n",
       "      <td>{'also_viewed': ['B0051IETTY']}</td>\n",
       "      <td>{'Grocery &amp; Gourmet Food': 620322}</td>\n",
       "      <td>[[Grocery &amp; Gourmet Food]]</td>\n",
       "      <td>NaN</td>\n",
       "      <td>Archer</td>\n",
       "    </tr>\n",
       "    <tr>\n",
       "      <th>4</th>\n",
       "      <td>1453060375</td>\n",
       "      <td>MiO Energy is your portable energy source givi...</td>\n",
       "      <td>Mio Energy Liquid Water Enhancer Black Cherry ...</td>\n",
       "      <td>http://ecx.images-amazon.com/images/I/51EUsMcn...</td>\n",
       "      <td>{'also_viewed': ['B006MSEOJ2', 'B005VOOQLO', '...</td>\n",
       "      <td>{'Grocery &amp; Gourmet Food': 268754}</td>\n",
       "      <td>[[Grocery &amp; Gourmet Food]]</td>\n",
       "      <td>11.99</td>\n",
       "      <td>Mio</td>\n",
       "    </tr>\n",
       "    <tr>\n",
       "      <th>...</th>\n",
       "      <td>...</td>\n",
       "      <td>...</td>\n",
       "      <td>...</td>\n",
       "      <td>...</td>\n",
       "      <td>...</td>\n",
       "      <td>...</td>\n",
       "      <td>...</td>\n",
       "      <td>...</td>\n",
       "      <td>...</td>\n",
       "    </tr>\n",
       "    <tr>\n",
       "      <th>171755</th>\n",
       "      <td>B00LDXFI6Y</td>\n",
       "      <td>Nescafe Cafe Viet is extracted from the aromat...</td>\n",
       "      <td>Nescafe Cafe Viet Vietnamese Sweetened Instant...</td>\n",
       "      <td>http://ecx.images-amazon.com/images/I/51qAGS7j...</td>\n",
       "      <td>{'also_viewed': ['B000DN8EZW']}</td>\n",
       "      <td>NaN</td>\n",
       "      <td>[[Grocery &amp; Gourmet Food]]</td>\n",
       "      <td>17.99</td>\n",
       "      <td>Nescafe</td>\n",
       "    </tr>\n",
       "    <tr>\n",
       "      <th>171756</th>\n",
       "      <td>B00LMMLRG6</td>\n",
       "      <td>Moon Cheese Snacks Moon Cheese High in protein...</td>\n",
       "      <td>Moon Cheese, 2 Oz. Pack of Three (Assortment)</td>\n",
       "      <td>http://ecx.images-amazon.com/images/I/419FO438...</td>\n",
       "      <td>{'also_viewed': ['B000UPFWW6']}</td>\n",
       "      <td>{'Grocery &amp; Gourmet Food': 54090}</td>\n",
       "      <td>[[Grocery &amp; Gourmet Food]]</td>\n",
       "      <td>16.95</td>\n",
       "      <td>Moon</td>\n",
       "    </tr>\n",
       "    <tr>\n",
       "      <th>171757</th>\n",
       "      <td>B00LOXAZ1Q</td>\n",
       "      <td>Sour Punch candy is the brand of mouth waterin...</td>\n",
       "      <td>Sour Punch Blue Raspberry Bite, 5 Ounce Bag --...</td>\n",
       "      <td>http://ecx.images-amazon.com/images/I/31Cj3cHD...</td>\n",
       "      <td>NaN</td>\n",
       "      <td>{'Grocery &amp; Gourmet Food': 133517}</td>\n",
       "      <td>[[Grocery &amp; Gourmet Food]]</td>\n",
       "      <td>16.55</td>\n",
       "      <td>Sour</td>\n",
       "    </tr>\n",
       "    <tr>\n",
       "      <th>171758</th>\n",
       "      <td>B00LOZ7F0S</td>\n",
       "      <td>Our Vanilla Extract made from\\nPremium, Organi...</td>\n",
       "      <td>Organic Mexican Vanilla</td>\n",
       "      <td>http://ecx.images-amazon.com/images/I/11iORwy7...</td>\n",
       "      <td>NaN</td>\n",
       "      <td>NaN</td>\n",
       "      <td>[[Grocery &amp; Gourmet Food]]</td>\n",
       "      <td>NaN</td>\n",
       "      <td>Organic</td>\n",
       "    </tr>\n",
       "    <tr>\n",
       "      <th>171759</th>\n",
       "      <td>B00LQWKDBM</td>\n",
       "      <td>NaN</td>\n",
       "      <td>Mrs. Grass Onion Soup and Dip Mix</td>\n",
       "      <td>http://ecx.images-amazon.com/images/I/31aDrMe4...</td>\n",
       "      <td>{'also_viewed': ['B00LAOSVPG', 'B001CAT22O']}</td>\n",
       "      <td>NaN</td>\n",
       "      <td>[[Grocery &amp; Gourmet Food]]</td>\n",
       "      <td>NaN</td>\n",
       "      <td>Mrs.</td>\n",
       "    </tr>\n",
       "  </tbody>\n",
       "</table>\n",
       "<p>171760 rows × 9 columns</p>\n",
       "</div>"
      ],
      "text/plain": [
       "              asin                                        description  \\\n",
       "0       0657745316  This is real vanilla extract made with only 3 ...   \n",
       "1       0700026444  Silverpot Tea, Pure Darjeeling, is an exquisit...   \n",
       "2       1403796890  Must have for any WWE Fan\\n \\n \\n \\nFeaturing ...   \n",
       "3       141278509X  Infused with Vitamins and Electrolytes Good So...   \n",
       "4       1453060375  MiO Energy is your portable energy source givi...   \n",
       "...            ...                                                ...   \n",
       "171755  B00LDXFI6Y  Nescafe Cafe Viet is extracted from the aromat...   \n",
       "171756  B00LMMLRG6  Moon Cheese Snacks Moon Cheese High in protein...   \n",
       "171757  B00LOXAZ1Q  Sour Punch candy is the brand of mouth waterin...   \n",
       "171758  B00LOZ7F0S  Our Vanilla Extract made from\\nPremium, Organi...   \n",
       "171759  B00LQWKDBM                                                NaN   \n",
       "\n",
       "                                                    title  \\\n",
       "0                 100 Percent All Natural Vanilla Extract   \n",
       "1                         Pure Darjeeling Tea: Loose Leaf   \n",
       "2       WWE Kids Todler Velvet Slippers featuring John...   \n",
       "3       Archer Farms Strawberry Dragonfruit Drink Mix ...   \n",
       "4       Mio Energy Liquid Water Enhancer Black Cherry ...   \n",
       "...                                                   ...   \n",
       "171755  Nescafe Cafe Viet Vietnamese Sweetened Instant...   \n",
       "171756      Moon Cheese, 2 Oz. Pack of Three (Assortment)   \n",
       "171757  Sour Punch Blue Raspberry Bite, 5 Ounce Bag --...   \n",
       "171758                            Organic Mexican Vanilla   \n",
       "171759                  Mrs. Grass Onion Soup and Dip Mix   \n",
       "\n",
       "                                                    imUrl  \\\n",
       "0       http://ecx.images-amazon.com/images/I/41gFi5h0...   \n",
       "1       http://ecx.images-amazon.com/images/I/51hs8sox...   \n",
       "2       http://ecx.images-amazon.com/images/I/518SEST5...   \n",
       "3       http://ecx.images-amazon.com/images/I/51CFQIis...   \n",
       "4       http://ecx.images-amazon.com/images/I/51EUsMcn...   \n",
       "...                                                   ...   \n",
       "171755  http://ecx.images-amazon.com/images/I/51qAGS7j...   \n",
       "171756  http://ecx.images-amazon.com/images/I/419FO438...   \n",
       "171757  http://ecx.images-amazon.com/images/I/31Cj3cHD...   \n",
       "171758  http://ecx.images-amazon.com/images/I/11iORwy7...   \n",
       "171759  http://ecx.images-amazon.com/images/I/31aDrMe4...   \n",
       "\n",
       "                                                  related  \\\n",
       "0                         {'also_viewed': ['B001GE8N4Y']}   \n",
       "1                                                     NaN   \n",
       "2                                                     NaN   \n",
       "3                         {'also_viewed': ['B0051IETTY']}   \n",
       "4       {'also_viewed': ['B006MSEOJ2', 'B005VOOQLO', '...   \n",
       "...                                                   ...   \n",
       "171755                    {'also_viewed': ['B000DN8EZW']}   \n",
       "171756                    {'also_viewed': ['B000UPFWW6']}   \n",
       "171757                                                NaN   \n",
       "171758                                                NaN   \n",
       "171759      {'also_viewed': ['B00LAOSVPG', 'B001CAT22O']}   \n",
       "\n",
       "                                 salesRank                  categories  price  \\\n",
       "0       {'Grocery & Gourmet Food': 374004}  [[Grocery & Gourmet Food]]    NaN   \n",
       "1       {'Grocery & Gourmet Food': 620307}  [[Grocery & Gourmet Food]]    NaN   \n",
       "2                                      NaN  [[Grocery & Gourmet Food]]   3.99   \n",
       "3       {'Grocery & Gourmet Food': 620322}  [[Grocery & Gourmet Food]]    NaN   \n",
       "4       {'Grocery & Gourmet Food': 268754}  [[Grocery & Gourmet Food]]  11.99   \n",
       "...                                    ...                         ...    ...   \n",
       "171755                                 NaN  [[Grocery & Gourmet Food]]  17.99   \n",
       "171756   {'Grocery & Gourmet Food': 54090}  [[Grocery & Gourmet Food]]  16.95   \n",
       "171757  {'Grocery & Gourmet Food': 133517}  [[Grocery & Gourmet Food]]  16.55   \n",
       "171758                                 NaN  [[Grocery & Gourmet Food]]    NaN   \n",
       "171759                                 NaN  [[Grocery & Gourmet Food]]    NaN   \n",
       "\n",
       "          brand  \n",
       "0           100  \n",
       "1          Pure  \n",
       "2           WWE  \n",
       "3        Archer  \n",
       "4           Mio  \n",
       "...         ...  \n",
       "171755  Nescafe  \n",
       "171756     Moon  \n",
       "171757     Sour  \n",
       "171758  Organic  \n",
       "171759     Mrs.  \n",
       "\n",
       "[171760 rows x 9 columns]"
      ]
     },
     "execution_count": 251,
     "metadata": {},
     "output_type": "execute_result"
    }
   ],
   "source": [
    "grocery_meta_df1"
   ]
  },
  {
   "cell_type": "code",
   "execution_count": 252,
   "id": "64d432fd",
   "metadata": {},
   "outputs": [
    {
     "data": {
      "text/plain": [
       "asin            object\n",
       "description     object\n",
       "title           object\n",
       "imUrl           object\n",
       "related         object\n",
       "salesRank       object\n",
       "categories      object\n",
       "price          float64\n",
       "brand           object\n",
       "dtype: object"
      ]
     },
     "execution_count": 252,
     "metadata": {},
     "output_type": "execute_result"
    }
   ],
   "source": [
    "grocery_meta_df1.dtypes"
   ]
  },
  {
   "cell_type": "code",
   "execution_count": 253,
   "id": "1386ac22",
   "metadata": {},
   "outputs": [
    {
     "data": {
      "text/plain": [
       "asin               0\n",
       "description    19943\n",
       "title            158\n",
       "imUrl            144\n",
       "related        44490\n",
       "salesRank      14788\n",
       "categories         0\n",
       "price          58608\n",
       "brand            158\n",
       "dtype: int64"
      ]
     },
     "execution_count": 253,
     "metadata": {},
     "output_type": "execute_result"
    }
   ],
   "source": [
    "grocery_meta_df1.isnull().sum()"
   ]
  },
  {
   "cell_type": "code",
   "execution_count": 254,
   "id": "b1221a3e",
   "metadata": {},
   "outputs": [],
   "source": [
    "grocery_meta_df1['title'] = grocery_meta_df1['title'].astype(str)\n",
    "grocery_meta_df1['brand'] = grocery_meta_df1['brand'].astype(str)"
   ]
  },
  {
   "cell_type": "code",
   "execution_count": 255,
   "id": "2fe75fc3",
   "metadata": {},
   "outputs": [],
   "source": [
    "grocery_meta_df1['product_name']=[a.replace(b,'').strip() for a,b in zip(grocery_meta_df1['title'], grocery_meta_df1['brand'])]"
   ]
  },
  {
   "cell_type": "code",
   "execution_count": 256,
   "id": "aeeed836",
   "metadata": {},
   "outputs": [
    {
     "data": {
      "text/html": [
       "<div>\n",
       "<style scoped>\n",
       "    .dataframe tbody tr th:only-of-type {\n",
       "        vertical-align: middle;\n",
       "    }\n",
       "\n",
       "    .dataframe tbody tr th {\n",
       "        vertical-align: top;\n",
       "    }\n",
       "\n",
       "    .dataframe thead th {\n",
       "        text-align: right;\n",
       "    }\n",
       "</style>\n",
       "<table border=\"1\" class=\"dataframe\">\n",
       "  <thead>\n",
       "    <tr style=\"text-align: right;\">\n",
       "      <th></th>\n",
       "      <th>asin</th>\n",
       "      <th>description</th>\n",
       "      <th>title</th>\n",
       "      <th>imUrl</th>\n",
       "      <th>related</th>\n",
       "      <th>salesRank</th>\n",
       "      <th>categories</th>\n",
       "      <th>price</th>\n",
       "      <th>brand</th>\n",
       "      <th>product_name</th>\n",
       "    </tr>\n",
       "  </thead>\n",
       "  <tbody>\n",
       "    <tr>\n",
       "      <th>0</th>\n",
       "      <td>0657745316</td>\n",
       "      <td>This is real vanilla extract made with only 3 ...</td>\n",
       "      <td>100 Percent All Natural Vanilla Extract</td>\n",
       "      <td>http://ecx.images-amazon.com/images/I/41gFi5h0...</td>\n",
       "      <td>{'also_viewed': ['B001GE8N4Y']}</td>\n",
       "      <td>{'Grocery &amp; Gourmet Food': 374004}</td>\n",
       "      <td>[[Grocery &amp; Gourmet Food]]</td>\n",
       "      <td>NaN</td>\n",
       "      <td>100</td>\n",
       "      <td>Percent All Natural Vanilla Extract</td>\n",
       "    </tr>\n",
       "    <tr>\n",
       "      <th>1</th>\n",
       "      <td>0700026444</td>\n",
       "      <td>Silverpot Tea, Pure Darjeeling, is an exquisit...</td>\n",
       "      <td>Pure Darjeeling Tea: Loose Leaf</td>\n",
       "      <td>http://ecx.images-amazon.com/images/I/51hs8sox...</td>\n",
       "      <td>NaN</td>\n",
       "      <td>{'Grocery &amp; Gourmet Food': 620307}</td>\n",
       "      <td>[[Grocery &amp; Gourmet Food]]</td>\n",
       "      <td>NaN</td>\n",
       "      <td>Pure</td>\n",
       "      <td>Darjeeling Tea: Loose Leaf</td>\n",
       "    </tr>\n",
       "    <tr>\n",
       "      <th>2</th>\n",
       "      <td>1403796890</td>\n",
       "      <td>Must have for any WWE Fan\\n \\n \\n \\nFeaturing ...</td>\n",
       "      <td>WWE Kids Todler Velvet Slippers featuring John...</td>\n",
       "      <td>http://ecx.images-amazon.com/images/I/518SEST5...</td>\n",
       "      <td>NaN</td>\n",
       "      <td>NaN</td>\n",
       "      <td>[[Grocery &amp; Gourmet Food]]</td>\n",
       "      <td>3.99</td>\n",
       "      <td>WWE</td>\n",
       "      <td>Kids Todler Velvet Slippers featuring John Cen...</td>\n",
       "    </tr>\n",
       "    <tr>\n",
       "      <th>3</th>\n",
       "      <td>141278509X</td>\n",
       "      <td>Infused with Vitamins and Electrolytes Good So...</td>\n",
       "      <td>Archer Farms Strawberry Dragonfruit Drink Mix ...</td>\n",
       "      <td>http://ecx.images-amazon.com/images/I/51CFQIis...</td>\n",
       "      <td>{'also_viewed': ['B0051IETTY']}</td>\n",
       "      <td>{'Grocery &amp; Gourmet Food': 620322}</td>\n",
       "      <td>[[Grocery &amp; Gourmet Food]]</td>\n",
       "      <td>NaN</td>\n",
       "      <td>Archer</td>\n",
       "      <td>Farms Strawberry Dragonfruit Drink Mix 8-0.16 ...</td>\n",
       "    </tr>\n",
       "    <tr>\n",
       "      <th>4</th>\n",
       "      <td>1453060375</td>\n",
       "      <td>MiO Energy is your portable energy source givi...</td>\n",
       "      <td>Mio Energy Liquid Water Enhancer Black Cherry ...</td>\n",
       "      <td>http://ecx.images-amazon.com/images/I/51EUsMcn...</td>\n",
       "      <td>{'also_viewed': ['B006MSEOJ2', 'B005VOOQLO', '...</td>\n",
       "      <td>{'Grocery &amp; Gourmet Food': 268754}</td>\n",
       "      <td>[[Grocery &amp; Gourmet Food]]</td>\n",
       "      <td>11.99</td>\n",
       "      <td>Mio</td>\n",
       "      <td>Energy Liquid Water Enhancer Black Cherry &amp;amp...</td>\n",
       "    </tr>\n",
       "  </tbody>\n",
       "</table>\n",
       "</div>"
      ],
      "text/plain": [
       "         asin                                        description  \\\n",
       "0  0657745316  This is real vanilla extract made with only 3 ...   \n",
       "1  0700026444  Silverpot Tea, Pure Darjeeling, is an exquisit...   \n",
       "2  1403796890  Must have for any WWE Fan\\n \\n \\n \\nFeaturing ...   \n",
       "3  141278509X  Infused with Vitamins and Electrolytes Good So...   \n",
       "4  1453060375  MiO Energy is your portable energy source givi...   \n",
       "\n",
       "                                               title  \\\n",
       "0            100 Percent All Natural Vanilla Extract   \n",
       "1                    Pure Darjeeling Tea: Loose Leaf   \n",
       "2  WWE Kids Todler Velvet Slippers featuring John...   \n",
       "3  Archer Farms Strawberry Dragonfruit Drink Mix ...   \n",
       "4  Mio Energy Liquid Water Enhancer Black Cherry ...   \n",
       "\n",
       "                                               imUrl  \\\n",
       "0  http://ecx.images-amazon.com/images/I/41gFi5h0...   \n",
       "1  http://ecx.images-amazon.com/images/I/51hs8sox...   \n",
       "2  http://ecx.images-amazon.com/images/I/518SEST5...   \n",
       "3  http://ecx.images-amazon.com/images/I/51CFQIis...   \n",
       "4  http://ecx.images-amazon.com/images/I/51EUsMcn...   \n",
       "\n",
       "                                             related  \\\n",
       "0                    {'also_viewed': ['B001GE8N4Y']}   \n",
       "1                                                NaN   \n",
       "2                                                NaN   \n",
       "3                    {'also_viewed': ['B0051IETTY']}   \n",
       "4  {'also_viewed': ['B006MSEOJ2', 'B005VOOQLO', '...   \n",
       "\n",
       "                            salesRank                  categories  price  \\\n",
       "0  {'Grocery & Gourmet Food': 374004}  [[Grocery & Gourmet Food]]    NaN   \n",
       "1  {'Grocery & Gourmet Food': 620307}  [[Grocery & Gourmet Food]]    NaN   \n",
       "2                                 NaN  [[Grocery & Gourmet Food]]   3.99   \n",
       "3  {'Grocery & Gourmet Food': 620322}  [[Grocery & Gourmet Food]]    NaN   \n",
       "4  {'Grocery & Gourmet Food': 268754}  [[Grocery & Gourmet Food]]  11.99   \n",
       "\n",
       "    brand                                       product_name  \n",
       "0     100                Percent All Natural Vanilla Extract  \n",
       "1    Pure                         Darjeeling Tea: Loose Leaf  \n",
       "2     WWE  Kids Todler Velvet Slippers featuring John Cen...  \n",
       "3  Archer  Farms Strawberry Dragonfruit Drink Mix 8-0.16 ...  \n",
       "4     Mio  Energy Liquid Water Enhancer Black Cherry &amp...  "
      ]
     },
     "execution_count": 256,
     "metadata": {},
     "output_type": "execute_result"
    }
   ],
   "source": [
    "grocery_meta_df1.head()"
   ]
  },
  {
   "cell_type": "code",
   "execution_count": 257,
   "id": "715eb814",
   "metadata": {},
   "outputs": [],
   "source": [
    "grocery_meta_df2 = grocery_meta_df1.copy()"
   ]
  },
  {
   "cell_type": "code",
   "execution_count": 258,
   "id": "27880ba6",
   "metadata": {},
   "outputs": [],
   "source": [
    "grocery_meta_df2.drop(['description','title','imUrl','related','salesRank'],axis=1,inplace=True)"
   ]
  },
  {
   "cell_type": "code",
   "execution_count": 259,
   "id": "25c3a898",
   "metadata": {},
   "outputs": [],
   "source": [
    "grocery_meta_df2['product_name']=grocery_meta_df2['product_name'].apply(cleaning)"
   ]
  },
  {
   "cell_type": "code",
   "execution_count": 260,
   "id": "fc4b1c50",
   "metadata": {},
   "outputs": [],
   "source": [
    "#coverting categories column to string type for text cleaning\n",
    "grocery_meta_df2[\"categories\"] = grocery_meta_df2[\"categories\"].astype(str)"
   ]
  },
  {
   "cell_type": "code",
   "execution_count": 261,
   "id": "44b5d17a",
   "metadata": {},
   "outputs": [],
   "source": [
    "grocery_meta_df2[\"categories\"] = grocery_meta_df2[\"categories\"].str.replace(\"[\\]\\[]\",'')"
   ]
  },
  {
   "cell_type": "code",
   "execution_count": 262,
   "id": "dd6a42a3",
   "metadata": {},
   "outputs": [],
   "source": [
    "grocery_meta_df2[\"categories\"]=grocery_meta_df2[\"categories\"].apply(cleaning)"
   ]
  },
  {
   "cell_type": "code",
   "execution_count": 263,
   "id": "d9275af8",
   "metadata": {},
   "outputs": [
    {
     "data": {
      "text/html": [
       "<div>\n",
       "<style scoped>\n",
       "    .dataframe tbody tr th:only-of-type {\n",
       "        vertical-align: middle;\n",
       "    }\n",
       "\n",
       "    .dataframe tbody tr th {\n",
       "        vertical-align: top;\n",
       "    }\n",
       "\n",
       "    .dataframe thead th {\n",
       "        text-align: right;\n",
       "    }\n",
       "</style>\n",
       "<table border=\"1\" class=\"dataframe\">\n",
       "  <thead>\n",
       "    <tr style=\"text-align: right;\">\n",
       "      <th></th>\n",
       "      <th>asin</th>\n",
       "      <th>categories</th>\n",
       "      <th>price</th>\n",
       "      <th>brand</th>\n",
       "      <th>product_name</th>\n",
       "    </tr>\n",
       "  </thead>\n",
       "  <tbody>\n",
       "    <tr>\n",
       "      <th>0</th>\n",
       "      <td>0657745316</td>\n",
       "      <td>grocery  gourmet food</td>\n",
       "      <td>NaN</td>\n",
       "      <td>100</td>\n",
       "      <td>percent all natural vanilla extract</td>\n",
       "    </tr>\n",
       "    <tr>\n",
       "      <th>1</th>\n",
       "      <td>0700026444</td>\n",
       "      <td>grocery  gourmet food</td>\n",
       "      <td>NaN</td>\n",
       "      <td>Pure</td>\n",
       "      <td>darjeeling tea loose leaf</td>\n",
       "    </tr>\n",
       "    <tr>\n",
       "      <th>2</th>\n",
       "      <td>1403796890</td>\n",
       "      <td>grocery  gourmet food</td>\n",
       "      <td>3.99</td>\n",
       "      <td>WWE</td>\n",
       "      <td>kids todler velvet slippers featuring john cen...</td>\n",
       "    </tr>\n",
       "    <tr>\n",
       "      <th>3</th>\n",
       "      <td>141278509X</td>\n",
       "      <td>grocery  gourmet food</td>\n",
       "      <td>NaN</td>\n",
       "      <td>Archer</td>\n",
       "      <td>farms strawberry dragonfruit drink mix  oz pac...</td>\n",
       "    </tr>\n",
       "    <tr>\n",
       "      <th>4</th>\n",
       "      <td>1453060375</td>\n",
       "      <td>grocery  gourmet food</td>\n",
       "      <td>11.99</td>\n",
       "      <td>Mio</td>\n",
       "      <td>energy liquid water enhancer black cherry amp ...</td>\n",
       "    </tr>\n",
       "  </tbody>\n",
       "</table>\n",
       "</div>"
      ],
      "text/plain": [
       "         asin             categories  price   brand  \\\n",
       "0  0657745316  grocery  gourmet food    NaN     100   \n",
       "1  0700026444  grocery  gourmet food    NaN    Pure   \n",
       "2  1403796890  grocery  gourmet food   3.99     WWE   \n",
       "3  141278509X  grocery  gourmet food    NaN  Archer   \n",
       "4  1453060375  grocery  gourmet food  11.99     Mio   \n",
       "\n",
       "                                        product_name  \n",
       "0                percent all natural vanilla extract  \n",
       "1                          darjeeling tea loose leaf  \n",
       "2  kids todler velvet slippers featuring john cen...  \n",
       "3  farms strawberry dragonfruit drink mix  oz pac...  \n",
       "4  energy liquid water enhancer black cherry amp ...  "
      ]
     },
     "execution_count": 263,
     "metadata": {},
     "output_type": "execute_result"
    }
   ],
   "source": [
    "grocery_meta_df2.head()"
   ]
  },
  {
   "cell_type": "code",
   "execution_count": 264,
   "id": "218d2452",
   "metadata": {},
   "outputs": [],
   "source": [
    "grocery_meta_df2.rename(columns={'asin':'productID'},inplace=True)"
   ]
  },
  {
   "cell_type": "code",
   "execution_count": 265,
   "id": "55188880",
   "metadata": {},
   "outputs": [
    {
     "data": {
      "text/plain": [
       "productID        object\n",
       "categories       object\n",
       "price           float64\n",
       "brand            object\n",
       "product_name     object\n",
       "dtype: object"
      ]
     },
     "execution_count": 265,
     "metadata": {},
     "output_type": "execute_result"
    }
   ],
   "source": [
    "grocery_meta_df2.dtypes"
   ]
  },
  {
   "cell_type": "code",
   "execution_count": 266,
   "id": "6c475b6b",
   "metadata": {},
   "outputs": [],
   "source": [
    "cols = ['categories','brand']"
   ]
  },
  {
   "cell_type": "code",
   "execution_count": 267,
   "id": "9bc9aa96",
   "metadata": {},
   "outputs": [],
   "source": [
    "for i in cols:\n",
    "    grocery_meta_df2[i] = grocery_meta_df2[i].astype('category')"
   ]
  },
  {
   "cell_type": "code",
   "execution_count": 268,
   "id": "50b21425",
   "metadata": {},
   "outputs": [],
   "source": [
    "from sklearn.preprocessing import LabelEncoder"
   ]
  },
  {
   "cell_type": "code",
   "execution_count": 269,
   "id": "f6416297",
   "metadata": {},
   "outputs": [],
   "source": [
    "price_nulldf = grocery_meta_df2[grocery_meta_df2.price.isnull()]"
   ]
  },
  {
   "cell_type": "code",
   "execution_count": 270,
   "id": "f692df6f",
   "metadata": {},
   "outputs": [],
   "source": [
    "price_nonull = grocery_meta_df2.dropna(subset='price')"
   ]
  },
  {
   "cell_type": "code",
   "execution_count": 271,
   "id": "62d8daa2",
   "metadata": {},
   "outputs": [],
   "source": [
    "#taking target and independent sets\n",
    "x = price_nonull.drop(columns=['price','productID','product_name'])\n",
    "y = price_nonull['price']\n",
    "x1 = price_nulldf.drop(columns=['price','productID','product_name'])"
   ]
  },
  {
   "cell_type": "code",
   "execution_count": 272,
   "id": "46cc32dd",
   "metadata": {},
   "outputs": [],
   "source": [
    "#encoding the categorical column to numerical\n",
    "encoder = LabelEncoder()\n",
    "\n",
    "x['categories']=encoder.fit_transform(x['categories'])\n",
    "x['brand']=encoder.fit_transform(x['brand'])\n",
    "\n",
    "\n",
    "x1['categories']=encoder.fit_transform(x1['categories'])\n",
    "x1['brand']=encoder.fit_transform(x1['brand'])"
   ]
  },
  {
   "cell_type": "code",
   "execution_count": 273,
   "id": "484f1130",
   "metadata": {},
   "outputs": [
    {
     "data": {
      "text/plain": [
       "array([25.36141229, 24.33636543, 25.28105739, ..., 24.71009402,\n",
       "       24.42924318, 24.49929283])"
      ]
     },
     "execution_count": 273,
     "metadata": {},
     "output_type": "execute_result"
    }
   ],
   "source": [
    "from sklearn.linear_model import LinearRegression\n",
    "\n",
    "model=LinearRegression()\n",
    "model.fit(x,y)\n",
    "pred_r=model.predict(x1)\n",
    "pred_r"
   ]
  },
  {
   "cell_type": "code",
   "execution_count": 274,
   "id": "69e8f292",
   "metadata": {},
   "outputs": [],
   "source": [
    "price_nulldf['price'] = pred_r"
   ]
  },
  {
   "cell_type": "code",
   "execution_count": 275,
   "id": "859d8165",
   "metadata": {},
   "outputs": [
    {
     "data": {
      "text/html": [
       "<div>\n",
       "<style scoped>\n",
       "    .dataframe tbody tr th:only-of-type {\n",
       "        vertical-align: middle;\n",
       "    }\n",
       "\n",
       "    .dataframe tbody tr th {\n",
       "        vertical-align: top;\n",
       "    }\n",
       "\n",
       "    .dataframe thead th {\n",
       "        text-align: right;\n",
       "    }\n",
       "</style>\n",
       "<table border=\"1\" class=\"dataframe\">\n",
       "  <thead>\n",
       "    <tr style=\"text-align: right;\">\n",
       "      <th></th>\n",
       "      <th>productID</th>\n",
       "      <th>categories</th>\n",
       "      <th>price</th>\n",
       "      <th>brand</th>\n",
       "      <th>product_name</th>\n",
       "    </tr>\n",
       "  </thead>\n",
       "  <tbody>\n",
       "    <tr>\n",
       "      <th>0</th>\n",
       "      <td>0657745316</td>\n",
       "      <td>grocery  gourmet food</td>\n",
       "      <td>25.361412</td>\n",
       "      <td>100</td>\n",
       "      <td>percent all natural vanilla extract</td>\n",
       "    </tr>\n",
       "    <tr>\n",
       "      <th>1</th>\n",
       "      <td>0700026444</td>\n",
       "      <td>grocery  gourmet food</td>\n",
       "      <td>24.336365</td>\n",
       "      <td>Pure</td>\n",
       "      <td>darjeeling tea loose leaf</td>\n",
       "    </tr>\n",
       "    <tr>\n",
       "      <th>3</th>\n",
       "      <td>141278509X</td>\n",
       "      <td>grocery  gourmet food</td>\n",
       "      <td>25.281057</td>\n",
       "      <td>Archer</td>\n",
       "      <td>farms strawberry dragonfruit drink mix  oz pac...</td>\n",
       "    </tr>\n",
       "    <tr>\n",
       "      <th>6</th>\n",
       "      <td>1453060464</td>\n",
       "      <td>grocery  gourmet food</td>\n",
       "      <td>24.172264</td>\n",
       "      <td>Splash</td>\n",
       "      <td>energy liquid water enhancer servings fantasy ...</td>\n",
       "    </tr>\n",
       "    <tr>\n",
       "      <th>13</th>\n",
       "      <td>5628754218</td>\n",
       "      <td>grocery  gourmet food</td>\n",
       "      <td>24.742836</td>\n",
       "      <td>Iaso</td>\n",
       "      <td>tea original by total life changes and dr mill...</td>\n",
       "    </tr>\n",
       "  </tbody>\n",
       "</table>\n",
       "</div>"
      ],
      "text/plain": [
       "     productID             categories      price   brand  \\\n",
       "0   0657745316  grocery  gourmet food  25.361412     100   \n",
       "1   0700026444  grocery  gourmet food  24.336365    Pure   \n",
       "3   141278509X  grocery  gourmet food  25.281057  Archer   \n",
       "6   1453060464  grocery  gourmet food  24.172264  Splash   \n",
       "13  5628754218  grocery  gourmet food  24.742836    Iaso   \n",
       "\n",
       "                                         product_name  \n",
       "0                 percent all natural vanilla extract  \n",
       "1                           darjeeling tea loose leaf  \n",
       "3   farms strawberry dragonfruit drink mix  oz pac...  \n",
       "6   energy liquid water enhancer servings fantasy ...  \n",
       "13  tea original by total life changes and dr mill...  "
      ]
     },
     "execution_count": 275,
     "metadata": {},
     "output_type": "execute_result"
    }
   ],
   "source": [
    "price=pd.concat([price_nulldf,price_nonull],axis=0)\n",
    "price.head()"
   ]
  },
  {
   "cell_type": "code",
   "execution_count": 276,
   "id": "763b4a8f",
   "metadata": {},
   "outputs": [
    {
     "data": {
      "text/html": [
       "<div>\n",
       "<style scoped>\n",
       "    .dataframe tbody tr th:only-of-type {\n",
       "        vertical-align: middle;\n",
       "    }\n",
       "\n",
       "    .dataframe tbody tr th {\n",
       "        vertical-align: top;\n",
       "    }\n",
       "\n",
       "    .dataframe thead th {\n",
       "        text-align: right;\n",
       "    }\n",
       "</style>\n",
       "<table border=\"1\" class=\"dataframe\">\n",
       "  <thead>\n",
       "    <tr style=\"text-align: right;\">\n",
       "      <th></th>\n",
       "      <th>productID</th>\n",
       "      <th>categories</th>\n",
       "      <th>price</th>\n",
       "      <th>brand</th>\n",
       "      <th>product_name</th>\n",
       "    </tr>\n",
       "  </thead>\n",
       "  <tbody>\n",
       "    <tr>\n",
       "      <th>0</th>\n",
       "      <td>0657745316</td>\n",
       "      <td>grocery  gourmet food</td>\n",
       "      <td>25.361412</td>\n",
       "      <td>100</td>\n",
       "      <td>percent all natural vanilla extract</td>\n",
       "    </tr>\n",
       "    <tr>\n",
       "      <th>1</th>\n",
       "      <td>0700026444</td>\n",
       "      <td>grocery  gourmet food</td>\n",
       "      <td>24.336365</td>\n",
       "      <td>Pure</td>\n",
       "      <td>darjeeling tea loose leaf</td>\n",
       "    </tr>\n",
       "    <tr>\n",
       "      <th>2</th>\n",
       "      <td>1403796890</td>\n",
       "      <td>grocery  gourmet food</td>\n",
       "      <td>3.990000</td>\n",
       "      <td>WWE</td>\n",
       "      <td>kids todler velvet slippers featuring john cen...</td>\n",
       "    </tr>\n",
       "    <tr>\n",
       "      <th>3</th>\n",
       "      <td>141278509X</td>\n",
       "      <td>grocery  gourmet food</td>\n",
       "      <td>25.281057</td>\n",
       "      <td>Archer</td>\n",
       "      <td>farms strawberry dragonfruit drink mix  oz pac...</td>\n",
       "    </tr>\n",
       "    <tr>\n",
       "      <th>4</th>\n",
       "      <td>1453060375</td>\n",
       "      <td>grocery  gourmet food</td>\n",
       "      <td>11.990000</td>\n",
       "      <td>Mio</td>\n",
       "      <td>energy liquid water enhancer black cherry amp ...</td>\n",
       "    </tr>\n",
       "    <tr>\n",
       "      <th>...</th>\n",
       "      <td>...</td>\n",
       "      <td>...</td>\n",
       "      <td>...</td>\n",
       "      <td>...</td>\n",
       "      <td>...</td>\n",
       "    </tr>\n",
       "    <tr>\n",
       "      <th>171755</th>\n",
       "      <td>B00LDXFI6Y</td>\n",
       "      <td>grocery  gourmet food</td>\n",
       "      <td>17.990000</td>\n",
       "      <td>Nescafe</td>\n",
       "      <td>cafe viet vietnamese sweetened instant black c...</td>\n",
       "    </tr>\n",
       "    <tr>\n",
       "      <th>171756</th>\n",
       "      <td>B00LMMLRG6</td>\n",
       "      <td>grocery  gourmet food</td>\n",
       "      <td>16.950000</td>\n",
       "      <td>Moon</td>\n",
       "      <td>cheese oz pack of three assortment</td>\n",
       "    </tr>\n",
       "    <tr>\n",
       "      <th>171757</th>\n",
       "      <td>B00LOXAZ1Q</td>\n",
       "      <td>grocery  gourmet food</td>\n",
       "      <td>16.550000</td>\n",
       "      <td>Sour</td>\n",
       "      <td>punch blue raspberry bite ounce bag  per case</td>\n",
       "    </tr>\n",
       "    <tr>\n",
       "      <th>171758</th>\n",
       "      <td>B00LOZ7F0S</td>\n",
       "      <td>grocery  gourmet food</td>\n",
       "      <td>24.429243</td>\n",
       "      <td>Organic</td>\n",
       "      <td>mexican vanilla</td>\n",
       "    </tr>\n",
       "    <tr>\n",
       "      <th>171759</th>\n",
       "      <td>B00LQWKDBM</td>\n",
       "      <td>grocery  gourmet food</td>\n",
       "      <td>24.499293</td>\n",
       "      <td>Mrs.</td>\n",
       "      <td>grass onion soup and dip mix</td>\n",
       "    </tr>\n",
       "  </tbody>\n",
       "</table>\n",
       "<p>171760 rows × 5 columns</p>\n",
       "</div>"
      ],
      "text/plain": [
       "         productID             categories      price    brand  \\\n",
       "0       0657745316  grocery  gourmet food  25.361412      100   \n",
       "1       0700026444  grocery  gourmet food  24.336365     Pure   \n",
       "2       1403796890  grocery  gourmet food   3.990000      WWE   \n",
       "3       141278509X  grocery  gourmet food  25.281057   Archer   \n",
       "4       1453060375  grocery  gourmet food  11.990000      Mio   \n",
       "...            ...                    ...        ...      ...   \n",
       "171755  B00LDXFI6Y  grocery  gourmet food  17.990000  Nescafe   \n",
       "171756  B00LMMLRG6  grocery  gourmet food  16.950000     Moon   \n",
       "171757  B00LOXAZ1Q  grocery  gourmet food  16.550000     Sour   \n",
       "171758  B00LOZ7F0S  grocery  gourmet food  24.429243  Organic   \n",
       "171759  B00LQWKDBM  grocery  gourmet food  24.499293     Mrs.   \n",
       "\n",
       "                                             product_name  \n",
       "0                     percent all natural vanilla extract  \n",
       "1                               darjeeling tea loose leaf  \n",
       "2       kids todler velvet slippers featuring john cen...  \n",
       "3       farms strawberry dragonfruit drink mix  oz pac...  \n",
       "4       energy liquid water enhancer black cherry amp ...  \n",
       "...                                                   ...  \n",
       "171755  cafe viet vietnamese sweetened instant black c...  \n",
       "171756                 cheese oz pack of three assortment  \n",
       "171757      punch blue raspberry bite ounce bag  per case  \n",
       "171758                                    mexican vanilla  \n",
       "171759                       grass onion soup and dip mix  \n",
       "\n",
       "[171760 rows x 5 columns]"
      ]
     },
     "execution_count": 276,
     "metadata": {},
     "output_type": "execute_result"
    }
   ],
   "source": [
    "grocery_meta_df2['price']=price['price']\n",
    "grocery_meta_df2"
   ]
  },
  {
   "cell_type": "code",
   "execution_count": 285,
   "id": "638286d1",
   "metadata": {},
   "outputs": [],
   "source": [
    "grocery_meta_df3 = grocery_meta_df2.copy()"
   ]
  },
  {
   "cell_type": "code",
   "execution_count": 286,
   "id": "16b74d45",
   "metadata": {},
   "outputs": [],
   "source": [
    "grocery_meta_df3['product_name'] = grocery_meta_df3['product_name'].astype(str)"
   ]
  },
  {
   "cell_type": "code",
   "execution_count": 287,
   "id": "bd3bd0c1",
   "metadata": {},
   "outputs": [
    {
     "ename": "AttributeError",
     "evalue": "'Series' object has no attribute 'split'",
     "output_type": "error",
     "traceback": [
      "\u001b[1;31m---------------------------------------------------------------------------\u001b[0m",
      "\u001b[1;31mAttributeError\u001b[0m                            Traceback (most recent call last)",
      "Input \u001b[1;32mIn [287]\u001b[0m, in \u001b[0;36m<cell line: 1>\u001b[1;34m()\u001b[0m\n\u001b[1;32m----> 1\u001b[0m grocery_meta_df3[\u001b[38;5;124m'\u001b[39m\u001b[38;5;124mproduct_name1\u001b[39m\u001b[38;5;124m'\u001b[39m] \u001b[38;5;241m=\u001b[39m \u001b[43mgrocery_meta_df3\u001b[49m\u001b[38;5;241;43m.\u001b[39;49m\u001b[43mproduct_name\u001b[49m\u001b[38;5;241;43m.\u001b[39;49m\u001b[43msplit\u001b[49m()\u001b[38;5;241m.\u001b[39mstr\u001b[38;5;241m.\u001b[39mget(\u001b[38;5;241m0\u001b[39m)\n",
      "File \u001b[1;32m~\\anaconda3\\lib\\site-packages\\pandas\\core\\generic.py:5575\u001b[0m, in \u001b[0;36mNDFrame.__getattr__\u001b[1;34m(self, name)\u001b[0m\n\u001b[0;32m   5568\u001b[0m \u001b[38;5;28;01mif\u001b[39;00m (\n\u001b[0;32m   5569\u001b[0m     name \u001b[38;5;129;01mnot\u001b[39;00m \u001b[38;5;129;01min\u001b[39;00m \u001b[38;5;28mself\u001b[39m\u001b[38;5;241m.\u001b[39m_internal_names_set\n\u001b[0;32m   5570\u001b[0m     \u001b[38;5;129;01mand\u001b[39;00m name \u001b[38;5;129;01mnot\u001b[39;00m \u001b[38;5;129;01min\u001b[39;00m \u001b[38;5;28mself\u001b[39m\u001b[38;5;241m.\u001b[39m_metadata\n\u001b[0;32m   5571\u001b[0m     \u001b[38;5;129;01mand\u001b[39;00m name \u001b[38;5;129;01mnot\u001b[39;00m \u001b[38;5;129;01min\u001b[39;00m \u001b[38;5;28mself\u001b[39m\u001b[38;5;241m.\u001b[39m_accessors\n\u001b[0;32m   5572\u001b[0m     \u001b[38;5;129;01mand\u001b[39;00m \u001b[38;5;28mself\u001b[39m\u001b[38;5;241m.\u001b[39m_info_axis\u001b[38;5;241m.\u001b[39m_can_hold_identifiers_and_holds_name(name)\n\u001b[0;32m   5573\u001b[0m ):\n\u001b[0;32m   5574\u001b[0m     \u001b[38;5;28;01mreturn\u001b[39;00m \u001b[38;5;28mself\u001b[39m[name]\n\u001b[1;32m-> 5575\u001b[0m \u001b[38;5;28;01mreturn\u001b[39;00m \u001b[38;5;28;43mobject\u001b[39;49m\u001b[38;5;241;43m.\u001b[39;49m\u001b[38;5;21;43m__getattribute__\u001b[39;49m\u001b[43m(\u001b[49m\u001b[38;5;28;43mself\u001b[39;49m\u001b[43m,\u001b[49m\u001b[43m \u001b[49m\u001b[43mname\u001b[49m\u001b[43m)\u001b[49m\n",
      "\u001b[1;31mAttributeError\u001b[0m: 'Series' object has no attribute 'split'"
     ]
    }
   ],
   "source": [
    "grocery_meta_df3['product_name1'] = grocery_meta_df3.product_name.split().str.get(0)"
   ]
  },
  {
   "cell_type": "code",
   "execution_count": 288,
   "id": "8b1373d0",
   "metadata": {},
   "outputs": [
    {
     "data": {
      "text/html": [
       "<div>\n",
       "<style scoped>\n",
       "    .dataframe tbody tr th:only-of-type {\n",
       "        vertical-align: middle;\n",
       "    }\n",
       "\n",
       "    .dataframe tbody tr th {\n",
       "        vertical-align: top;\n",
       "    }\n",
       "\n",
       "    .dataframe thead th {\n",
       "        text-align: right;\n",
       "    }\n",
       "</style>\n",
       "<table border=\"1\" class=\"dataframe\">\n",
       "  <thead>\n",
       "    <tr style=\"text-align: right;\">\n",
       "      <th></th>\n",
       "      <th>productID</th>\n",
       "      <th>categories</th>\n",
       "      <th>price</th>\n",
       "      <th>brand</th>\n",
       "      <th>product_name</th>\n",
       "    </tr>\n",
       "  </thead>\n",
       "  <tbody>\n",
       "    <tr>\n",
       "      <th>0</th>\n",
       "      <td>0657745316</td>\n",
       "      <td>grocery  gourmet food</td>\n",
       "      <td>25.361412</td>\n",
       "      <td>100</td>\n",
       "      <td>percent all natural vanilla extract</td>\n",
       "    </tr>\n",
       "    <tr>\n",
       "      <th>1</th>\n",
       "      <td>0700026444</td>\n",
       "      <td>grocery  gourmet food</td>\n",
       "      <td>24.336365</td>\n",
       "      <td>Pure</td>\n",
       "      <td>darjeeling tea loose leaf</td>\n",
       "    </tr>\n",
       "    <tr>\n",
       "      <th>2</th>\n",
       "      <td>1403796890</td>\n",
       "      <td>grocery  gourmet food</td>\n",
       "      <td>3.990000</td>\n",
       "      <td>WWE</td>\n",
       "      <td>kids todler velvet slippers featuring john cen...</td>\n",
       "    </tr>\n",
       "    <tr>\n",
       "      <th>3</th>\n",
       "      <td>141278509X</td>\n",
       "      <td>grocery  gourmet food</td>\n",
       "      <td>25.281057</td>\n",
       "      <td>Archer</td>\n",
       "      <td>farms strawberry dragonfruit drink mix  oz pac...</td>\n",
       "    </tr>\n",
       "    <tr>\n",
       "      <th>4</th>\n",
       "      <td>1453060375</td>\n",
       "      <td>grocery  gourmet food</td>\n",
       "      <td>11.990000</td>\n",
       "      <td>Mio</td>\n",
       "      <td>energy liquid water enhancer black cherry amp ...</td>\n",
       "    </tr>\n",
       "  </tbody>\n",
       "</table>\n",
       "</div>"
      ],
      "text/plain": [
       "    productID             categories      price   brand  \\\n",
       "0  0657745316  grocery  gourmet food  25.361412     100   \n",
       "1  0700026444  grocery  gourmet food  24.336365    Pure   \n",
       "2  1403796890  grocery  gourmet food   3.990000     WWE   \n",
       "3  141278509X  grocery  gourmet food  25.281057  Archer   \n",
       "4  1453060375  grocery  gourmet food  11.990000     Mio   \n",
       "\n",
       "                                        product_name  \n",
       "0                percent all natural vanilla extract  \n",
       "1                          darjeeling tea loose leaf  \n",
       "2  kids todler velvet slippers featuring john cen...  \n",
       "3  farms strawberry dragonfruit drink mix  oz pac...  \n",
       "4  energy liquid water enhancer black cherry amp ...  "
      ]
     },
     "execution_count": 288,
     "metadata": {},
     "output_type": "execute_result"
    }
   ],
   "source": [
    "grocery_meta_df3.head()"
   ]
  },
  {
   "cell_type": "code",
   "execution_count": null,
   "id": "0aba57b7",
   "metadata": {},
   "outputs": [],
   "source": [
    "grocery_meta_df2['product_name1'] = grocery_meta_df2.product_name.str.get(1)"
   ]
  },
  {
   "cell_type": "code",
   "execution_count": null,
   "id": "6e204474",
   "metadata": {},
   "outputs": [],
   "source": [
    "grocery_meta_df2['product_name1'] = grocery_meta_df2.product_name.str.get(2)"
   ]
  },
  {
   "cell_type": "code",
   "execution_count": 197,
   "id": "f6945a7c",
   "metadata": {},
   "outputs": [],
   "source": [
    "grocery_meta_df2.rename(columns={'productID':'asin'},inplace=True)"
   ]
  },
  {
   "cell_type": "markdown",
   "id": "3fbb8edb",
   "metadata": {
    "id": "3fbb8edb"
   },
   "source": [
    "## =========================== Final data ================================\n",
    "     After pre processing the final dataset has been saved on device and will be used for further anaylsis."
   ]
  },
  {
   "cell_type": "markdown",
   "id": "54ff50f2",
   "metadata": {
    "id": "54ff50f2"
   },
   "source": [
    "### Merging metadata and review dataframes for one final dataframe"
   ]
  },
  {
   "cell_type": "code",
   "execution_count": 198,
   "id": "c77d1a44",
   "metadata": {
    "collapsed": true
   },
   "outputs": [
    {
     "data": {
      "text/html": [
       "<div>\n",
       "<style scoped>\n",
       "    .dataframe tbody tr th:only-of-type {\n",
       "        vertical-align: middle;\n",
       "    }\n",
       "\n",
       "    .dataframe tbody tr th {\n",
       "        vertical-align: top;\n",
       "    }\n",
       "\n",
       "    .dataframe thead th {\n",
       "        text-align: right;\n",
       "    }\n",
       "</style>\n",
       "<table border=\"1\" class=\"dataframe\">\n",
       "  <thead>\n",
       "    <tr style=\"text-align: right;\">\n",
       "      <th></th>\n",
       "      <th>asin</th>\n",
       "      <th>categories</th>\n",
       "      <th>price</th>\n",
       "      <th>brand</th>\n",
       "      <th>product_name</th>\n",
       "      <th>reviewerID</th>\n",
       "      <th>reviewerName</th>\n",
       "      <th>overall</th>\n",
       "      <th>review_text</th>\n",
       "      <th>pos_feedback</th>\n",
       "      <th>neg_feedback</th>\n",
       "      <th>rating_class</th>\n",
       "      <th>tokenized</th>\n",
       "      <th>Polarity</th>\n",
       "      <th>Sentiment</th>\n",
       "      <th>Sentiment_Analysis</th>\n",
       "      <th>Time</th>\n",
       "    </tr>\n",
       "  </thead>\n",
       "  <tbody>\n",
       "    <tr>\n",
       "      <th>0</th>\n",
       "      <td>0657745316</td>\n",
       "      <td>grocery  gourmet food</td>\n",
       "      <td>25.361412</td>\n",
       "      <td>100</td>\n",
       "      <td>percent all natural vanilla extract</td>\n",
       "      <td>A1ZQZ8RJS1XVTX</td>\n",
       "      <td>gsxrgirl</td>\n",
       "      <td>5.0</td>\n",
       "      <td>best vanilla ive ever had no sugar no gmo garb...</td>\n",
       "      <td>0</td>\n",
       "      <td>0</td>\n",
       "      <td>good</td>\n",
       "      <td>['best', 'vanilla', 'ive', 'ever', 'sugar', 'g...</td>\n",
       "      <td>0.195578</td>\n",
       "      <td>1</td>\n",
       "      <td>Positive</td>\n",
       "      <td>2013-10-11</td>\n",
       "    </tr>\n",
       "    <tr>\n",
       "      <th>1</th>\n",
       "      <td>0700026444</td>\n",
       "      <td>grocery  gourmet food</td>\n",
       "      <td>24.336365</td>\n",
       "      <td>Pure</td>\n",
       "      <td>darjeeling tea loose leaf</td>\n",
       "      <td>A31W38VGZAUUM4</td>\n",
       "      <td>fifa lvr</td>\n",
       "      <td>5.0</td>\n",
       "      <td>terrific tea this is my absolute undisputed fa...</td>\n",
       "      <td>1</td>\n",
       "      <td>0</td>\n",
       "      <td>good</td>\n",
       "      <td>['terrific', 'tea', 'absolute', 'undisputed', ...</td>\n",
       "      <td>0.236842</td>\n",
       "      <td>1</td>\n",
       "      <td>Positive</td>\n",
       "      <td>2012-12-06</td>\n",
       "    </tr>\n",
       "    <tr>\n",
       "      <th>2</th>\n",
       "      <td>1403796890</td>\n",
       "      <td>grocery  gourmet food</td>\n",
       "      <td>3.990000</td>\n",
       "      <td>WWE</td>\n",
       "      <td>kids todler velvet slippers featuring john cen...</td>\n",
       "      <td>A3I0AV0UJX5OH0</td>\n",
       "      <td>alicia b</td>\n",
       "      <td>1.0</td>\n",
       "      <td>grrrrrrr i ordered spongbob slippers and i got...</td>\n",
       "      <td>0</td>\n",
       "      <td>0</td>\n",
       "      <td>bad</td>\n",
       "      <td>['grrrrrrr', 'ordered', 'spongbob', 'slippers'...</td>\n",
       "      <td>0.200000</td>\n",
       "      <td>1</td>\n",
       "      <td>Positive</td>\n",
       "      <td>2013-12-02</td>\n",
       "    </tr>\n",
       "    <tr>\n",
       "      <th>3</th>\n",
       "      <td>1403796890</td>\n",
       "      <td>grocery  gourmet food</td>\n",
       "      <td>3.990000</td>\n",
       "      <td>WWE</td>\n",
       "      <td>kids todler velvet slippers featuring john cen...</td>\n",
       "      <td>A3QAAOLIXKV383</td>\n",
       "      <td>danny k tilley dan tilley</td>\n",
       "      <td>3.0</td>\n",
       "      <td>storage on wheels cart the cart is fine and wo...</td>\n",
       "      <td>0</td>\n",
       "      <td>0</td>\n",
       "      <td>good</td>\n",
       "      <td>['storage', 'wheels', 'cart', 'cart', 'fine', ...</td>\n",
       "      <td>0.058333</td>\n",
       "      <td>1</td>\n",
       "      <td>Positive</td>\n",
       "      <td>2011-06-12</td>\n",
       "    </tr>\n",
       "    <tr>\n",
       "      <th>4</th>\n",
       "      <td>141278509X</td>\n",
       "      <td>grocery  gourmet food</td>\n",
       "      <td>25.281057</td>\n",
       "      <td>Archer</td>\n",
       "      <td>farms strawberry dragonfruit drink mix  oz pac...</td>\n",
       "      <td>AB1A5EGHHVA9M</td>\n",
       "      <td>chelmic</td>\n",
       "      <td>5.0</td>\n",
       "      <td>the best drink mix this product by archer farm...</td>\n",
       "      <td>1</td>\n",
       "      <td>0</td>\n",
       "      <td>good</td>\n",
       "      <td>['best', 'drink', 'mix', 'product', 'archer', ...</td>\n",
       "      <td>0.487755</td>\n",
       "      <td>1</td>\n",
       "      <td>Positive</td>\n",
       "      <td>2012-03-24</td>\n",
       "    </tr>\n",
       "    <tr>\n",
       "      <th>...</th>\n",
       "      <td>...</td>\n",
       "      <td>...</td>\n",
       "      <td>...</td>\n",
       "      <td>...</td>\n",
       "      <td>...</td>\n",
       "      <td>...</td>\n",
       "      <td>...</td>\n",
       "      <td>...</td>\n",
       "      <td>...</td>\n",
       "      <td>...</td>\n",
       "      <td>...</td>\n",
       "      <td>...</td>\n",
       "      <td>...</td>\n",
       "      <td>...</td>\n",
       "      <td>...</td>\n",
       "      <td>...</td>\n",
       "      <td>...</td>\n",
       "    </tr>\n",
       "    <tr>\n",
       "      <th>1287836</th>\n",
       "      <td>B00LOZ7F0S</td>\n",
       "      <td>grocery  gourmet food</td>\n",
       "      <td>24.429243</td>\n",
       "      <td>Organic</td>\n",
       "      <td>mexican vanilla</td>\n",
       "      <td>A1DGBQQIBHTLPF</td>\n",
       "      <td>berkley roberts</td>\n",
       "      <td>5.0</td>\n",
       "      <td>great appeal and quality i was attracted to th...</td>\n",
       "      <td>0</td>\n",
       "      <td>0</td>\n",
       "      <td>good</td>\n",
       "      <td>['great', 'appeal', 'quality', 'attracted', 'p...</td>\n",
       "      <td>0.275000</td>\n",
       "      <td>1</td>\n",
       "      <td>Positive</td>\n",
       "      <td>2014-07-17</td>\n",
       "    </tr>\n",
       "    <tr>\n",
       "      <th>1287837</th>\n",
       "      <td>B00LOZ7F0S</td>\n",
       "      <td>grocery  gourmet food</td>\n",
       "      <td>24.429243</td>\n",
       "      <td>Organic</td>\n",
       "      <td>mexican vanilla</td>\n",
       "      <td>A3DYJ90MXMH04P</td>\n",
       "      <td>maximiliano korp</td>\n",
       "      <td>5.0</td>\n",
       "      <td>wonderful vanilla very strong vanilla flavor w...</td>\n",
       "      <td>1</td>\n",
       "      <td>0</td>\n",
       "      <td>good</td>\n",
       "      <td>['wonderful', 'vanilla', 'strong', 'vanilla', ...</td>\n",
       "      <td>0.500000</td>\n",
       "      <td>1</td>\n",
       "      <td>Positive</td>\n",
       "      <td>2014-07-10</td>\n",
       "    </tr>\n",
       "    <tr>\n",
       "      <th>1287838</th>\n",
       "      <td>B00LOZ7F0S</td>\n",
       "      <td>grocery  gourmet food</td>\n",
       "      <td>24.429243</td>\n",
       "      <td>Organic</td>\n",
       "      <td>mexican vanilla</td>\n",
       "      <td>AWQYAJV2QWLWA</td>\n",
       "      <td>micheal taylor</td>\n",
       "      <td>5.0</td>\n",
       "      <td>the best i have found i usually dont write rev...</td>\n",
       "      <td>0</td>\n",
       "      <td>0</td>\n",
       "      <td>good</td>\n",
       "      <td>['best', 'found', 'usually', 'dont', 'write', ...</td>\n",
       "      <td>0.451429</td>\n",
       "      <td>1</td>\n",
       "      <td>Positive</td>\n",
       "      <td>2014-07-13</td>\n",
       "    </tr>\n",
       "    <tr>\n",
       "      <th>1287839</th>\n",
       "      <td>B00LOZ7F0S</td>\n",
       "      <td>grocery  gourmet food</td>\n",
       "      <td>24.429243</td>\n",
       "      <td>Organic</td>\n",
       "      <td>mexican vanilla</td>\n",
       "      <td>A2AT0AI6QKSY2C</td>\n",
       "      <td>willy korp</td>\n",
       "      <td>5.0</td>\n",
       "      <td>healthy product i like to drink my tea with va...</td>\n",
       "      <td>0</td>\n",
       "      <td>0</td>\n",
       "      <td>good</td>\n",
       "      <td>['healthy', 'product', 'like', 'drink', 'tea',...</td>\n",
       "      <td>0.532000</td>\n",
       "      <td>1</td>\n",
       "      <td>Positive</td>\n",
       "      <td>2014-07-15</td>\n",
       "    </tr>\n",
       "    <tr>\n",
       "      <th>1287840</th>\n",
       "      <td>B00LQWKDBM</td>\n",
       "      <td>grocery  gourmet food</td>\n",
       "      <td>24.499293</td>\n",
       "      <td>Mrs.</td>\n",
       "      <td>grass onion soup and dip mix</td>\n",
       "      <td>A2NSZZ7Y0RAE45</td>\n",
       "      <td>michael freed freedml</td>\n",
       "      <td>5.0</td>\n",
       "      <td>amazing meatloaf makes amazing meatloaf its ou...</td>\n",
       "      <td>0</td>\n",
       "      <td>0</td>\n",
       "      <td>good</td>\n",
       "      <td>['amazing', 'meatloaf', 'makes', 'amazing', 'm...</td>\n",
       "      <td>0.433333</td>\n",
       "      <td>1</td>\n",
       "      <td>Positive</td>\n",
       "      <td>2014-07-12</td>\n",
       "    </tr>\n",
       "  </tbody>\n",
       "</table>\n",
       "<p>1287841 rows × 17 columns</p>\n",
       "</div>"
      ],
      "text/plain": [
       "               asin             categories      price    brand  \\\n",
       "0        0657745316  grocery  gourmet food  25.361412      100   \n",
       "1        0700026444  grocery  gourmet food  24.336365     Pure   \n",
       "2        1403796890  grocery  gourmet food   3.990000      WWE   \n",
       "3        1403796890  grocery  gourmet food   3.990000      WWE   \n",
       "4        141278509X  grocery  gourmet food  25.281057   Archer   \n",
       "...             ...                    ...        ...      ...   \n",
       "1287836  B00LOZ7F0S  grocery  gourmet food  24.429243  Organic   \n",
       "1287837  B00LOZ7F0S  grocery  gourmet food  24.429243  Organic   \n",
       "1287838  B00LOZ7F0S  grocery  gourmet food  24.429243  Organic   \n",
       "1287839  B00LOZ7F0S  grocery  gourmet food  24.429243  Organic   \n",
       "1287840  B00LQWKDBM  grocery  gourmet food  24.499293     Mrs.   \n",
       "\n",
       "                                              product_name      reviewerID  \\\n",
       "0                      percent all natural vanilla extract  A1ZQZ8RJS1XVTX   \n",
       "1                                darjeeling tea loose leaf  A31W38VGZAUUM4   \n",
       "2        kids todler velvet slippers featuring john cen...  A3I0AV0UJX5OH0   \n",
       "3        kids todler velvet slippers featuring john cen...  A3QAAOLIXKV383   \n",
       "4        farms strawberry dragonfruit drink mix  oz pac...   AB1A5EGHHVA9M   \n",
       "...                                                    ...             ...   \n",
       "1287836                                    mexican vanilla  A1DGBQQIBHTLPF   \n",
       "1287837                                    mexican vanilla  A3DYJ90MXMH04P   \n",
       "1287838                                    mexican vanilla   AWQYAJV2QWLWA   \n",
       "1287839                                    mexican vanilla  A2AT0AI6QKSY2C   \n",
       "1287840                       grass onion soup and dip mix  A2NSZZ7Y0RAE45   \n",
       "\n",
       "                      reviewerName  overall  \\\n",
       "0                         gsxrgirl      5.0   \n",
       "1                         fifa lvr      5.0   \n",
       "2                         alicia b      1.0   \n",
       "3        danny k tilley dan tilley      3.0   \n",
       "4                          chelmic      5.0   \n",
       "...                            ...      ...   \n",
       "1287836            berkley roberts      5.0   \n",
       "1287837           maximiliano korp      5.0   \n",
       "1287838             micheal taylor      5.0   \n",
       "1287839                 willy korp      5.0   \n",
       "1287840      michael freed freedml      5.0   \n",
       "\n",
       "                                               review_text  pos_feedback  \\\n",
       "0        best vanilla ive ever had no sugar no gmo garb...             0   \n",
       "1        terrific tea this is my absolute undisputed fa...             1   \n",
       "2        grrrrrrr i ordered spongbob slippers and i got...             0   \n",
       "3        storage on wheels cart the cart is fine and wo...             0   \n",
       "4        the best drink mix this product by archer farm...             1   \n",
       "...                                                    ...           ...   \n",
       "1287836  great appeal and quality i was attracted to th...             0   \n",
       "1287837  wonderful vanilla very strong vanilla flavor w...             1   \n",
       "1287838  the best i have found i usually dont write rev...             0   \n",
       "1287839  healthy product i like to drink my tea with va...             0   \n",
       "1287840  amazing meatloaf makes amazing meatloaf its ou...             0   \n",
       "\n",
       "         neg_feedback rating_class  \\\n",
       "0                   0         good   \n",
       "1                   0         good   \n",
       "2                   0          bad   \n",
       "3                   0         good   \n",
       "4                   0         good   \n",
       "...               ...          ...   \n",
       "1287836             0         good   \n",
       "1287837             0         good   \n",
       "1287838             0         good   \n",
       "1287839             0         good   \n",
       "1287840             0         good   \n",
       "\n",
       "                                                 tokenized  Polarity  \\\n",
       "0        ['best', 'vanilla', 'ive', 'ever', 'sugar', 'g...  0.195578   \n",
       "1        ['terrific', 'tea', 'absolute', 'undisputed', ...  0.236842   \n",
       "2        ['grrrrrrr', 'ordered', 'spongbob', 'slippers'...  0.200000   \n",
       "3        ['storage', 'wheels', 'cart', 'cart', 'fine', ...  0.058333   \n",
       "4        ['best', 'drink', 'mix', 'product', 'archer', ...  0.487755   \n",
       "...                                                    ...       ...   \n",
       "1287836  ['great', 'appeal', 'quality', 'attracted', 'p...  0.275000   \n",
       "1287837  ['wonderful', 'vanilla', 'strong', 'vanilla', ...  0.500000   \n",
       "1287838  ['best', 'found', 'usually', 'dont', 'write', ...  0.451429   \n",
       "1287839  ['healthy', 'product', 'like', 'drink', 'tea',...  0.532000   \n",
       "1287840  ['amazing', 'meatloaf', 'makes', 'amazing', 'm...  0.433333   \n",
       "\n",
       "         Sentiment Sentiment_Analysis       Time  \n",
       "0                1           Positive 2013-10-11  \n",
       "1                1           Positive 2012-12-06  \n",
       "2                1           Positive 2013-12-02  \n",
       "3                1           Positive 2011-06-12  \n",
       "4                1           Positive 2012-03-24  \n",
       "...            ...                ...        ...  \n",
       "1287836          1           Positive 2014-07-17  \n",
       "1287837          1           Positive 2014-07-10  \n",
       "1287838          1           Positive 2014-07-13  \n",
       "1287839          1           Positive 2014-07-15  \n",
       "1287840          1           Positive 2014-07-12  \n",
       "\n",
       "[1287841 rows x 17 columns]"
      ]
     },
     "execution_count": 198,
     "metadata": {},
     "output_type": "execute_result"
    }
   ],
   "source": [
    "grocery_df = grocery_meta_df2.merge(grocery_review_df1, how='inner')\n",
    "grocery_df "
   ]
  },
  {
   "cell_type": "code",
   "execution_count": 199,
   "id": "0e83da9e",
   "metadata": {},
   "outputs": [],
   "source": [
    "grocery_df.rename(columns={'asin':'productID'},inplace=True)"
   ]
  },
  {
   "cell_type": "code",
   "execution_count": 200,
   "id": "798a2f52",
   "metadata": {},
   "outputs": [
    {
     "data": {
      "text/plain": [
       "(1287841, 17)"
      ]
     },
     "execution_count": 200,
     "metadata": {},
     "output_type": "execute_result"
    }
   ],
   "source": [
    "grocery_df.shape"
   ]
  },
  {
   "cell_type": "code",
   "execution_count": 201,
   "id": "ae5c7846",
   "metadata": {},
   "outputs": [
    {
     "data": {
      "text/plain": [
       "productID             0\n",
       "categories            0\n",
       "price                 0\n",
       "brand                 0\n",
       "product_name          0\n",
       "reviewerID            0\n",
       "reviewerName          0\n",
       "overall               0\n",
       "review_text           0\n",
       "pos_feedback          0\n",
       "neg_feedback          0\n",
       "rating_class          0\n",
       "tokenized             0\n",
       "Polarity              0\n",
       "Sentiment             0\n",
       "Sentiment_Analysis    0\n",
       "Time                  0\n",
       "dtype: int64"
      ]
     },
     "execution_count": 201,
     "metadata": {},
     "output_type": "execute_result"
    }
   ],
   "source": [
    "grocery_df.isnull().sum()"
   ]
  },
  {
   "cell_type": "code",
   "execution_count": 202,
   "id": "587b011c",
   "metadata": {},
   "outputs": [
    {
     "data": {
      "text/plain": [
       "productID                     object\n",
       "categories                  category\n",
       "price                        float64\n",
       "brand                       category\n",
       "product_name                  object\n",
       "reviewerID                    object\n",
       "reviewerName                  object\n",
       "overall                      float64\n",
       "review_text                   object\n",
       "pos_feedback                   int64\n",
       "neg_feedback                   int64\n",
       "rating_class                  object\n",
       "tokenized                     object\n",
       "Polarity                     float64\n",
       "Sentiment                      int64\n",
       "Sentiment_Analysis            object\n",
       "Time                  datetime64[ns]\n",
       "dtype: object"
      ]
     },
     "execution_count": 202,
     "metadata": {},
     "output_type": "execute_result"
    }
   ],
   "source": [
    "grocery_df.dtypes"
   ]
  },
  {
   "cell_type": "markdown",
   "id": "b6265b37",
   "metadata": {
    "id": "b6265b37"
   },
   "source": [
    "#### Saving file to local device \n"
   ]
  },
  {
   "cell_type": "code",
   "execution_count": 205,
   "id": "274effb9",
   "metadata": {},
   "outputs": [],
   "source": [
    "grocery_df.to_csv(\"C:/Users/vamsh/OneDrive/Desktop/NIIT/14.Capstone project(Amazon)/AmazonGroceryReview_csvfile_new.csv\", sep = ',', encoding='utf-8', index = False)"
   ]
  },
  {
   "cell_type": "code",
   "execution_count": 206,
   "id": "6b749b39",
   "metadata": {},
   "outputs": [],
   "source": [
    "grocery_df.to_json('C:/Users/vamsh/OneDrive/Desktop/NIIT/14.Capstone project(Amazon)/AmazonGroceryReview_jsonfile_new.json',orient = 'split',date_format='iso', index = 'true')"
   ]
  },
  {
   "cell_type": "code",
   "execution_count": null,
   "id": "dbc0dcfb",
   "metadata": {},
   "outputs": [],
   "source": []
  },
  {
   "cell_type": "code",
   "execution_count": null,
   "id": "790996ce",
   "metadata": {},
   "outputs": [],
   "source": []
  },
  {
   "cell_type": "code",
   "execution_count": null,
   "id": "3b342310",
   "metadata": {},
   "outputs": [],
   "source": []
  },
  {
   "cell_type": "code",
   "execution_count": null,
   "id": "5d4e4c67",
   "metadata": {},
   "outputs": [],
   "source": []
  },
  {
   "cell_type": "code",
   "execution_count": 85,
   "id": "36ee9335",
   "metadata": {},
   "outputs": [],
   "source": [
    "grocery_df.to_json('C:/Users/vamsh/OneDrive/Desktop/NIIT/14.Capstone project(Amazon)/AmazonGroceryReview_jsonfile_final.json',orient = 'split',date_format='iso', index = 'true')"
   ]
  },
  {
   "cell_type": "code",
   "execution_count": 86,
   "id": "6ad942f3",
   "metadata": {},
   "outputs": [],
   "source": [
    "#grocery_df.to_csv('C:\\\\Users\\\\iapar\\\\OneDrive\\\\Desktop\\\\Capstone\\\\AmazonGroceryReview_csvfile..csv', sep=',', encoding='utf-8', index = False)"
   ]
  },
  {
   "cell_type": "code",
   "execution_count": 2,
   "id": "a7bcdc49",
   "metadata": {},
   "outputs": [],
   "source": [
    "import pandas as pd"
   ]
  },
  {
   "cell_type": "code",
   "execution_count": 4,
   "id": "54535a16",
   "metadata": {},
   "outputs": [],
   "source": [
    "g_df = pd.read_json(\"C:/Users/vamsh/OneDrive/Desktop/NIIT/14.Capstone project(Amazon)/AmazonGroceryReview_jsonfile_final.json\",orient='split')"
   ]
  },
  {
   "cell_type": "code",
   "execution_count": 5,
   "id": "b3e44870",
   "metadata": {},
   "outputs": [],
   "source": [
    "g_df.to_csv(\"C:/Users/vamsh/OneDrive/Desktop/NIIT/14.Capstone project(Amazon)/AmazonGroceryReview_csvfile_final.csv\", sep=',', encoding='utf-8', index = False)"
   ]
  },
  {
   "cell_type": "code",
   "execution_count": null,
   "id": "2348d12c",
   "metadata": {},
   "outputs": [],
   "source": []
  }
 ],
 "metadata": {
  "colab": {
   "collapsed_sections": [
    "7ebaa6d8",
    "c65eafb7",
    "d4243fad",
    "6ec0cec0",
    "f98054fb",
    "baf6147a",
    "1a65a6f6",
    "9ebb0c16",
    "35c62fe6",
    "58b51041",
    "d6fbbf63"
   ],
   "provenance": []
  },
  "kernelspec": {
   "display_name": "Python 3 (ipykernel)",
   "language": "python",
   "name": "python3"
  },
  "language_info": {
   "codemirror_mode": {
    "name": "ipython",
    "version": 3
   },
   "file_extension": ".py",
   "mimetype": "text/x-python",
   "name": "python",
   "nbconvert_exporter": "python",
   "pygments_lexer": "ipython3",
   "version": "3.9.12"
  }
 },
 "nbformat": 4,
 "nbformat_minor": 5
}
